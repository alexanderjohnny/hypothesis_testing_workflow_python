{
 "cells": [
  {
   "cell_type": "markdown",
   "metadata": {},
   "source": [
    "# Mod 3 Final Project"
   ]
  },
  {
   "cell_type": "markdown",
   "metadata": {},
   "source": [
    "## Student Info\n",
    "\n",
    "- Name: Alex Beat\n",
    "- Cohort: 100719 pt \n",
    "- Instructor: James Irving\n"
   ]
  },
  {
   "cell_type": "markdown",
   "metadata": {},
   "source": [
    "## Instructions:"
   ]
  },
  {
   "cell_type": "markdown",
   "metadata": {},
   "source": [
    "- Open and read the project assignment and guidelines in `MOD_PROJECT_README.ipynb`\n",
    "- Review the hypothesis testing workflow found in this repo's `README.md` and at the bottom of the `MOD_PROJECT_README.ipynb`\n",
    "- 3 functions from study group/learn.co lessons have been provided inside `functions.py`\n",
    "    - `Cohen_d`, `find_outliers_IQR`,`find_outliers_Z`"
   ]
  },
  {
   "cell_type": "markdown",
   "metadata": {},
   "source": []
  },
  {
   "cell_type": "markdown",
   "metadata": {},
   "source": [
    "<img src=\"https://raw.githubusercontent.com/jirvingphd/dsc-mod-3-project-online-ds-ft-100719/master/Northwind_ERD_updated.png\">"
   ]
  },
  {
   "cell_type": "markdown",
   "metadata": {},
   "source": [
    "# PROJECT"
   ]
  },
  {
   "cell_type": "code",
   "execution_count": 1,
   "metadata": {},
   "outputs": [
    {
     "name": "stdout",
     "output_type": "stream",
     "text": [
      "fsds_1007219  v0.7.6 loaded.  Read the docs: https://fsds.readthedocs.io/en/latest/ \n"
     ]
    },
    {
     "data": {
      "text/html": [
       "<style  type=\"text/css\" >\n",
       "</style><table id=\"T_ddfd47ec_4f87_11ea_9fc2_0026bb4edb26\" ><caption>Loaded Packages and Handles</caption><thead>    <tr>        <th class=\"col_heading level0 col0\" >Handle</th>        <th class=\"col_heading level0 col1\" >Package</th>        <th class=\"col_heading level0 col2\" >Description</th>    </tr></thead><tbody>\n",
       "                <tr>\n",
       "                                <td id=\"T_ddfd47ec_4f87_11ea_9fc2_0026bb4edb26row0_col0\" class=\"data row0 col0\" >dp</td>\n",
       "                        <td id=\"T_ddfd47ec_4f87_11ea_9fc2_0026bb4edb26row0_col1\" class=\"data row0 col1\" >IPython.display</td>\n",
       "                        <td id=\"T_ddfd47ec_4f87_11ea_9fc2_0026bb4edb26row0_col2\" class=\"data row0 col2\" >Display modules with helpful display and clearing commands.</td>\n",
       "            </tr>\n",
       "            <tr>\n",
       "                                <td id=\"T_ddfd47ec_4f87_11ea_9fc2_0026bb4edb26row1_col0\" class=\"data row1 col0\" >fs</td>\n",
       "                        <td id=\"T_ddfd47ec_4f87_11ea_9fc2_0026bb4edb26row1_col1\" class=\"data row1 col1\" >fsds_100719</td>\n",
       "                        <td id=\"T_ddfd47ec_4f87_11ea_9fc2_0026bb4edb26row1_col2\" class=\"data row1 col2\" >Custom data science bootcamp student package</td>\n",
       "            </tr>\n",
       "            <tr>\n",
       "                                <td id=\"T_ddfd47ec_4f87_11ea_9fc2_0026bb4edb26row2_col0\" class=\"data row2 col0\" >mpl</td>\n",
       "                        <td id=\"T_ddfd47ec_4f87_11ea_9fc2_0026bb4edb26row2_col1\" class=\"data row2 col1\" >matplotlib</td>\n",
       "                        <td id=\"T_ddfd47ec_4f87_11ea_9fc2_0026bb4edb26row2_col2\" class=\"data row2 col2\" >Matplotlib's base OOP module with formatting artists</td>\n",
       "            </tr>\n",
       "            <tr>\n",
       "                                <td id=\"T_ddfd47ec_4f87_11ea_9fc2_0026bb4edb26row3_col0\" class=\"data row3 col0\" >plt</td>\n",
       "                        <td id=\"T_ddfd47ec_4f87_11ea_9fc2_0026bb4edb26row3_col1\" class=\"data row3 col1\" >matplotlib.pyplot</td>\n",
       "                        <td id=\"T_ddfd47ec_4f87_11ea_9fc2_0026bb4edb26row3_col2\" class=\"data row3 col2\" >Matplotlib's matlab-like plotting module</td>\n",
       "            </tr>\n",
       "            <tr>\n",
       "                                <td id=\"T_ddfd47ec_4f87_11ea_9fc2_0026bb4edb26row4_col0\" class=\"data row4 col0\" >np</td>\n",
       "                        <td id=\"T_ddfd47ec_4f87_11ea_9fc2_0026bb4edb26row4_col1\" class=\"data row4 col1\" >numpy</td>\n",
       "                        <td id=\"T_ddfd47ec_4f87_11ea_9fc2_0026bb4edb26row4_col2\" class=\"data row4 col2\" >scientific computing with Python</td>\n",
       "            </tr>\n",
       "            <tr>\n",
       "                                <td id=\"T_ddfd47ec_4f87_11ea_9fc2_0026bb4edb26row5_col0\" class=\"data row5 col0\" >pd</td>\n",
       "                        <td id=\"T_ddfd47ec_4f87_11ea_9fc2_0026bb4edb26row5_col1\" class=\"data row5 col1\" >pandas</td>\n",
       "                        <td id=\"T_ddfd47ec_4f87_11ea_9fc2_0026bb4edb26row5_col2\" class=\"data row5 col2\" >High performance data structures and tools</td>\n",
       "            </tr>\n",
       "            <tr>\n",
       "                                <td id=\"T_ddfd47ec_4f87_11ea_9fc2_0026bb4edb26row6_col0\" class=\"data row6 col0\" >sns</td>\n",
       "                        <td id=\"T_ddfd47ec_4f87_11ea_9fc2_0026bb4edb26row6_col1\" class=\"data row6 col1\" >seaborn</td>\n",
       "                        <td id=\"T_ddfd47ec_4f87_11ea_9fc2_0026bb4edb26row6_col2\" class=\"data row6 col2\" >High-level data visualization library based on matplotlib</td>\n",
       "            </tr>\n",
       "    </tbody></table>"
      ],
      "text/plain": [
       "<pandas.io.formats.style.Styler at 0x103b33ba8>"
      ]
     },
     "metadata": {},
     "output_type": "display_data"
    },
    {
     "data": {
      "text/html": [
       "        <script type=\"text/javascript\">\n",
       "        window.PlotlyConfig = {MathJaxConfig: 'local'};\n",
       "        if (window.MathJax) {MathJax.Hub.Config({SVG: {font: \"STIX-Web\"}});}\n",
       "        if (typeof require !== 'undefined') {\n",
       "        require.undef(\"plotly\");\n",
       "        requirejs.config({\n",
       "            paths: {\n",
       "                'plotly': ['https://cdn.plot.ly/plotly-latest.min']\n",
       "            }\n",
       "        });\n",
       "        require(['plotly'], function(Plotly) {\n",
       "            window._Plotly = Plotly;\n",
       "        });\n",
       "        }\n",
       "        </script>\n",
       "        "
      ]
     },
     "metadata": {},
     "output_type": "display_data"
    },
    {
     "name": "stdout",
     "output_type": "stream",
     "text": [
      "['[i] Pandas .iplot() method activated.']\n"
     ]
    }
   ],
   "source": [
    "!pip install -U fsds_100719\n",
    "from fsds_100719.imports import *\n",
    "\n",
    "import pandas as pd\n"
   ]
  },
  {
   "cell_type": "code",
   "execution_count": 2,
   "metadata": {},
   "outputs": [],
   "source": [
    "\n",
    "import scipy.stats as stats\n",
    "import numpy as np\n",
    "\n",
    "def Cohen_d(group1, group2, correction = False):\n",
    "    \"\"\"Compute Cohen's d\n",
    "    d = (group1.mean()-group2.mean())/pool_variance.\n",
    "    pooled_variance= (n1 * var1 + n2 * var2) / (n1 + n2)\n",
    "\n",
    "    Args:\n",
    "        group1 (Series or NumPy array): group 1 for calculating d\n",
    "        group2 (Series or NumPy array): group 2 for calculating d\n",
    "        correction (bool): Apply equation correction if N<50. Default is False. \n",
    "            - Url with small ncorrection equation: \n",
    "                - https://www.statisticshowto.datasciencecentral.com/cohens-d/ \n",
    "    Returns:\n",
    "        d (float): calculated d value\n",
    "         \n",
    "    INTERPRETATION OF COHEN's D: \n",
    "    > Small effect = 0.2\n",
    "    > Medium Effect = 0.5\n",
    "    > Large Effect = 0.8\n",
    "    \n",
    "    \"\"\"\n",
    "    import scipy.stats as stats\n",
    "    import scipy   \n",
    "    import numpy as np\n",
    "    N = len(group1)+len(group2)\n",
    "    diff = group1.mean() - group2.mean()\n",
    "\n",
    "    n1, n2 = len(group1), len(group2)\n",
    "    var1 = group1.var()\n",
    "    var2 = group2.var()\n",
    "\n",
    "    # Calculate the pooled threshold as shown earlier\n",
    "    pooled_var = (n1 * var1 + n2 * var2) / (n1 + n2)\n",
    "    \n",
    "    # Calculate Cohen's d statistic\n",
    "    d = diff / np.sqrt(pooled_var)\n",
    "    \n",
    "    ## Apply correction if needed\n",
    "    if (N < 50) & (correction==True):\n",
    "        d=d * ((N-3)/(N-2.25))*np.sqrt((N-2)/N)\n",
    "    return d\n",
    "\n",
    "\n",
    "#Your code here\n",
    "def find_outliers_Z(data):\n",
    "    \"\"\"Use scipy to calculate absolute Z-scores \n",
    "    and return boolean series where True indicates it is an outlier.\n",
    "\n",
    "    Args:\n",
    "        data (Series,or ndarray): data to test for outliers.\n",
    "\n",
    "    Returns:\n",
    "        [boolean Series]: A True/False for each row use to slice outliers.\n",
    "        \n",
    "    EXAMPLE USE: \n",
    "    >> idx_outs = find_outliers_df(df['AdjustedCompensation'])\n",
    "    >> good_data = df[~idx_outs].copy()\n",
    "    \"\"\"\n",
    "    import pandas as pd\n",
    "    import numpy as np\n",
    "    import scipy.stats as stats\n",
    "    import pandas as pd\n",
    "    import numpy as np\n",
    "    ## Calculate z-scores\n",
    "    zs = stats.zscore(data)\n",
    "    \n",
    "    ## Find z-scores >3 awayfrom mean\n",
    "    idx_outs = np.abs(zs)>3\n",
    "    \n",
    "    ## If input was a series, make idx_outs index match\n",
    "    if isinstance(data,pd.Series):\n",
    "        return pd.Series(idx_outs,index=data.index)\n",
    "    else:\n",
    "        return pd.Series(idx_outs)\n",
    "    \n",
    "    \n",
    "    \n",
    "def find_outliers_IQR(data):\n",
    "    \"\"\"Use Tukey's Method of outlier removal AKA InterQuartile-Range Rule\n",
    "    and return boolean series where True indicates it is an outlier.\n",
    "    - Calculates the range between the 75% and 25% quartiles\n",
    "    - Outliers fall outside upper and lower limits, using a treshold of  1.5*IQR the 75% and 25% quartiles.\n",
    "\n",
    "    IQR Range Calculation:    \n",
    "        res = df.describe()\n",
    "        IQR = res['75%'] -  res['25%']\n",
    "        lower_limit = res['25%'] - 1.5*IQR\n",
    "        upper_limit = res['75%'] + 1.5*IQR\n",
    "\n",
    "    Args:\n",
    "        data (Series,or ndarray): data to test for outliers.\n",
    "\n",
    "    Returns:\n",
    "        [boolean Series]: A True/False for each row use to slice outliers.\n",
    "        \n",
    "    EXAMPLE USE: \n",
    "    >> idx_outs = find_outliers_df(df['AdjustedCompensation'])\n",
    "    >> good_data = df[~idx_outs].copy()\n",
    "    \n",
    "    \"\"\"\n",
    "    df_b=data\n",
    "    res= df_b.describe()\n",
    "\n",
    "    IQR = res['75%'] -  res['25%']\n",
    "    lower_limit = res['25%'] - 1.5*IQR\n",
    "    upper_limit = res['75%'] + 1.5*IQR\n",
    "\n",
    "    idx_outs = (df_b>upper_limit) | (df_b<lower_limit)\n",
    "\n",
    "    return idx_outs\n",
    "\n",
    "\n",
    "def prep_data_for_tukeys(data):\n",
    "    \"\"\"Accepts a dictionary with group names as the keys \n",
    "    and pandas series as the values. \n",
    "    \n",
    "    Returns a dataframe ready for tukeys test:\n",
    "    - with a 'data' column and a 'group' column for sms.stats.multicomp.pairwise_tukeyhsd \n",
    "    \n",
    "    Example Use:\n",
    "    df_tukey = prep_data_for_tukeys(grp_data)\n",
    "    tukey = sms.stats.multicomp.pairwise_tukeyhsd(df_tukey['data'], df_tukey['group'])\n",
    "    tukey.summary()\n",
    "    \"\"\"\n",
    "    import pandas as pd\n",
    "    df_tukey = pd.DataFrame(columns=['data','group'])\n",
    "\n",
    "    for k,v in  data.items():\n",
    "        grp_df = v.rename('data').to_frame() \n",
    "        grp_df['group'] = k\n",
    "        df_tukey=pd.concat([df_tukey,grp_df],axis=0)\n",
    "    return df_tukey"
   ]
  },
  {
   "cell_type": "code",
   "execution_count": 3,
   "metadata": {},
   "outputs": [],
   "source": [
    "import sqlite3\n",
    "connect = sqlite3.connect('Northwind_small.sqlite')\n",
    "cur = connect.cursor()"
   ]
  },
  {
   "cell_type": "code",
   "execution_count": 4,
   "metadata": {},
   "outputs": [
    {
     "data": {
      "text/html": [
       "<div>\n",
       "<style scoped>\n",
       "    .dataframe tbody tr th:only-of-type {\n",
       "        vertical-align: middle;\n",
       "    }\n",
       "\n",
       "    .dataframe tbody tr th {\n",
       "        vertical-align: top;\n",
       "    }\n",
       "\n",
       "    .dataframe thead th {\n",
       "        text-align: right;\n",
       "    }\n",
       "</style>\n",
       "<table border=\"1\" class=\"dataframe\">\n",
       "  <thead>\n",
       "    <tr style=\"text-align: right;\">\n",
       "      <th></th>\n",
       "      <th>Table</th>\n",
       "    </tr>\n",
       "  </thead>\n",
       "  <tbody>\n",
       "    <tr>\n",
       "      <td>0</td>\n",
       "      <td>Employee</td>\n",
       "    </tr>\n",
       "    <tr>\n",
       "      <td>1</td>\n",
       "      <td>Category</td>\n",
       "    </tr>\n",
       "    <tr>\n",
       "      <td>2</td>\n",
       "      <td>Customer</td>\n",
       "    </tr>\n",
       "    <tr>\n",
       "      <td>3</td>\n",
       "      <td>Shipper</td>\n",
       "    </tr>\n",
       "    <tr>\n",
       "      <td>4</td>\n",
       "      <td>Supplier</td>\n",
       "    </tr>\n",
       "    <tr>\n",
       "      <td>5</td>\n",
       "      <td>Order</td>\n",
       "    </tr>\n",
       "    <tr>\n",
       "      <td>6</td>\n",
       "      <td>Product</td>\n",
       "    </tr>\n",
       "    <tr>\n",
       "      <td>7</td>\n",
       "      <td>OrderDetail</td>\n",
       "    </tr>\n",
       "    <tr>\n",
       "      <td>8</td>\n",
       "      <td>CustomerCustomerDemo</td>\n",
       "    </tr>\n",
       "    <tr>\n",
       "      <td>9</td>\n",
       "      <td>CustomerDemographic</td>\n",
       "    </tr>\n",
       "    <tr>\n",
       "      <td>10</td>\n",
       "      <td>Region</td>\n",
       "    </tr>\n",
       "    <tr>\n",
       "      <td>11</td>\n",
       "      <td>Territory</td>\n",
       "    </tr>\n",
       "    <tr>\n",
       "      <td>12</td>\n",
       "      <td>EmployeeTerritory</td>\n",
       "    </tr>\n",
       "  </tbody>\n",
       "</table>\n",
       "</div>"
      ],
      "text/plain": [
       "                   Table\n",
       "0               Employee\n",
       "1               Category\n",
       "2               Customer\n",
       "3                Shipper\n",
       "4               Supplier\n",
       "5                  Order\n",
       "6                Product\n",
       "7            OrderDetail\n",
       "8   CustomerCustomerDemo\n",
       "9    CustomerDemographic\n",
       "10                Region\n",
       "11             Territory\n",
       "12     EmployeeTerritory"
      ]
     },
     "execution_count": 4,
     "metadata": {},
     "output_type": "execute_result"
    }
   ],
   "source": [
    "cur.execute(\"\"\"SELECT name FROM sqlite_master WHERE type='table';\"\"\")\n",
    "df_tables = pd.DataFrame(cur.fetchall(), columns=['Table'])\n",
    "df_tables"
   ]
  },
  {
   "cell_type": "markdown",
   "metadata": {},
   "source": [
    "# Hypothesis 1"
   ]
  },
  {
   "cell_type": "markdown",
   "metadata": {},
   "source": [
    "## Question"
   ]
  },
  {
   "cell_type": "markdown",
   "metadata": {},
   "source": [
    "> Does discount amount have a statistically significant effect on the quantity of a product in an order? If so, at what level(s) of discount? "
   ]
  },
  {
   "cell_type": "markdown",
   "metadata": {},
   "source": [
    "## Null and Alternative Hypothesis"
   ]
  },
  {
   "cell_type": "markdown",
   "metadata": {},
   "source": [
    "- $H_0$: Customers bought the same quantity of both discounted and non-discounted products. \n",
    "\n",
    "- $H_1$: Customers bought the same quantity of both discounted and non-discounted products."
   ]
  },
  {
   "cell_type": "markdown",
   "metadata": {},
   "source": [
    "## STEP 1: Determine the category/type of test based on your data"
   ]
  },
  {
   "cell_type": "markdown",
   "metadata": {},
   "source": [
    "Type of data: numeric <br>\n",
    "    How many groups compared: Two different groups if comparing discount or full price.\n",
    "        - So we use 2 sample t-test"
   ]
  },
  {
   "cell_type": "markdown",
   "metadata": {},
   "source": [
    "### split data into 2 groups"
   ]
  },
  {
   "cell_type": "code",
   "execution_count": 5,
   "metadata": {},
   "outputs": [
    {
     "data": {
      "text/plain": [
       "['Id', 'OrderId', 'ProductId', 'UnitPrice', 'Quantity', 'Discount']"
      ]
     },
     "execution_count": 5,
     "metadata": {},
     "output_type": "execute_result"
    }
   ],
   "source": [
    "cur.execute(\"\"\"SELECT * from OrderDetail\"\"\")\n",
    "col_names=[x[0] for x in cur.description]\n",
    "col_names"
   ]
  },
  {
   "cell_type": "code",
   "execution_count": 6,
   "metadata": {},
   "outputs": [
    {
     "data": {
      "text/html": [
       "<div>\n",
       "<style scoped>\n",
       "    .dataframe tbody tr th:only-of-type {\n",
       "        vertical-align: middle;\n",
       "    }\n",
       "\n",
       "    .dataframe tbody tr th {\n",
       "        vertical-align: top;\n",
       "    }\n",
       "\n",
       "    .dataframe thead th {\n",
       "        text-align: right;\n",
       "    }\n",
       "</style>\n",
       "<table border=\"1\" class=\"dataframe\">\n",
       "  <thead>\n",
       "    <tr style=\"text-align: right;\">\n",
       "      <th></th>\n",
       "      <th>Id</th>\n",
       "      <th>OrderId</th>\n",
       "      <th>ProductId</th>\n",
       "      <th>UnitPrice</th>\n",
       "      <th>Quantity</th>\n",
       "      <th>Discount</th>\n",
       "    </tr>\n",
       "  </thead>\n",
       "  <tbody>\n",
       "    <tr>\n",
       "      <td>0</td>\n",
       "      <td>10248/11</td>\n",
       "      <td>10248</td>\n",
       "      <td>11</td>\n",
       "      <td>14.00</td>\n",
       "      <td>12</td>\n",
       "      <td>0.00</td>\n",
       "    </tr>\n",
       "    <tr>\n",
       "      <td>1</td>\n",
       "      <td>10248/42</td>\n",
       "      <td>10248</td>\n",
       "      <td>42</td>\n",
       "      <td>9.80</td>\n",
       "      <td>10</td>\n",
       "      <td>0.00</td>\n",
       "    </tr>\n",
       "    <tr>\n",
       "      <td>2</td>\n",
       "      <td>10248/72</td>\n",
       "      <td>10248</td>\n",
       "      <td>72</td>\n",
       "      <td>34.80</td>\n",
       "      <td>5</td>\n",
       "      <td>0.00</td>\n",
       "    </tr>\n",
       "    <tr>\n",
       "      <td>3</td>\n",
       "      <td>10249/14</td>\n",
       "      <td>10249</td>\n",
       "      <td>14</td>\n",
       "      <td>18.60</td>\n",
       "      <td>9</td>\n",
       "      <td>0.00</td>\n",
       "    </tr>\n",
       "    <tr>\n",
       "      <td>4</td>\n",
       "      <td>10249/51</td>\n",
       "      <td>10249</td>\n",
       "      <td>51</td>\n",
       "      <td>42.40</td>\n",
       "      <td>40</td>\n",
       "      <td>0.00</td>\n",
       "    </tr>\n",
       "    <tr>\n",
       "      <td>...</td>\n",
       "      <td>...</td>\n",
       "      <td>...</td>\n",
       "      <td>...</td>\n",
       "      <td>...</td>\n",
       "      <td>...</td>\n",
       "      <td>...</td>\n",
       "    </tr>\n",
       "    <tr>\n",
       "      <td>2150</td>\n",
       "      <td>11077/64</td>\n",
       "      <td>11077</td>\n",
       "      <td>64</td>\n",
       "      <td>33.25</td>\n",
       "      <td>2</td>\n",
       "      <td>0.03</td>\n",
       "    </tr>\n",
       "    <tr>\n",
       "      <td>2151</td>\n",
       "      <td>11077/66</td>\n",
       "      <td>11077</td>\n",
       "      <td>66</td>\n",
       "      <td>17.00</td>\n",
       "      <td>1</td>\n",
       "      <td>0.00</td>\n",
       "    </tr>\n",
       "    <tr>\n",
       "      <td>2152</td>\n",
       "      <td>11077/73</td>\n",
       "      <td>11077</td>\n",
       "      <td>73</td>\n",
       "      <td>15.00</td>\n",
       "      <td>2</td>\n",
       "      <td>0.01</td>\n",
       "    </tr>\n",
       "    <tr>\n",
       "      <td>2153</td>\n",
       "      <td>11077/75</td>\n",
       "      <td>11077</td>\n",
       "      <td>75</td>\n",
       "      <td>7.75</td>\n",
       "      <td>4</td>\n",
       "      <td>0.00</td>\n",
       "    </tr>\n",
       "    <tr>\n",
       "      <td>2154</td>\n",
       "      <td>11077/77</td>\n",
       "      <td>11077</td>\n",
       "      <td>77</td>\n",
       "      <td>13.00</td>\n",
       "      <td>2</td>\n",
       "      <td>0.00</td>\n",
       "    </tr>\n",
       "  </tbody>\n",
       "</table>\n",
       "<p>2155 rows × 6 columns</p>\n",
       "</div>"
      ],
      "text/plain": [
       "            Id  OrderId  ProductId  UnitPrice  Quantity  Discount\n",
       "0     10248/11    10248         11      14.00        12      0.00\n",
       "1     10248/42    10248         42       9.80        10      0.00\n",
       "2     10248/72    10248         72      34.80         5      0.00\n",
       "3     10249/14    10249         14      18.60         9      0.00\n",
       "4     10249/51    10249         51      42.40        40      0.00\n",
       "...        ...      ...        ...        ...       ...       ...\n",
       "2150  11077/64    11077         64      33.25         2      0.03\n",
       "2151  11077/66    11077         66      17.00         1      0.00\n",
       "2152  11077/73    11077         73      15.00         2      0.01\n",
       "2153  11077/75    11077         75       7.75         4      0.00\n",
       "2154  11077/77    11077         77      13.00         2      0.00\n",
       "\n",
       "[2155 rows x 6 columns]"
      ]
     },
     "execution_count": 6,
     "metadata": {},
     "output_type": "execute_result"
    }
   ],
   "source": [
    "h1df = pd.DataFrame(cur.fetchall(), columns=col_names)\n",
    "h1df"
   ]
  },
  {
   "cell_type": "code",
   "execution_count": 7,
   "metadata": {},
   "outputs": [
    {
     "data": {
      "text/html": [
       "<div>\n",
       "<style scoped>\n",
       "    .dataframe tbody tr th:only-of-type {\n",
       "        vertical-align: middle;\n",
       "    }\n",
       "\n",
       "    .dataframe tbody tr th {\n",
       "        vertical-align: top;\n",
       "    }\n",
       "\n",
       "    .dataframe thead th {\n",
       "        text-align: right;\n",
       "    }\n",
       "</style>\n",
       "<table border=\"1\" class=\"dataframe\">\n",
       "  <thead>\n",
       "    <tr style=\"text-align: right;\">\n",
       "      <th></th>\n",
       "      <th>Id</th>\n",
       "      <th>OrderId</th>\n",
       "      <th>ProductId</th>\n",
       "      <th>UnitPrice</th>\n",
       "      <th>Quantity</th>\n",
       "      <th>Discount</th>\n",
       "      <th>discounted</th>\n",
       "    </tr>\n",
       "  </thead>\n",
       "  <tbody>\n",
       "    <tr>\n",
       "      <td>0</td>\n",
       "      <td>10248/11</td>\n",
       "      <td>10248</td>\n",
       "      <td>11</td>\n",
       "      <td>14.00</td>\n",
       "      <td>12</td>\n",
       "      <td>0.00</td>\n",
       "      <td>Full Price</td>\n",
       "    </tr>\n",
       "    <tr>\n",
       "      <td>1</td>\n",
       "      <td>10248/42</td>\n",
       "      <td>10248</td>\n",
       "      <td>42</td>\n",
       "      <td>9.80</td>\n",
       "      <td>10</td>\n",
       "      <td>0.00</td>\n",
       "      <td>Full Price</td>\n",
       "    </tr>\n",
       "    <tr>\n",
       "      <td>2</td>\n",
       "      <td>10248/72</td>\n",
       "      <td>10248</td>\n",
       "      <td>72</td>\n",
       "      <td>34.80</td>\n",
       "      <td>5</td>\n",
       "      <td>0.00</td>\n",
       "      <td>Full Price</td>\n",
       "    </tr>\n",
       "    <tr>\n",
       "      <td>3</td>\n",
       "      <td>10249/14</td>\n",
       "      <td>10249</td>\n",
       "      <td>14</td>\n",
       "      <td>18.60</td>\n",
       "      <td>9</td>\n",
       "      <td>0.00</td>\n",
       "      <td>Full Price</td>\n",
       "    </tr>\n",
       "    <tr>\n",
       "      <td>4</td>\n",
       "      <td>10249/51</td>\n",
       "      <td>10249</td>\n",
       "      <td>51</td>\n",
       "      <td>42.40</td>\n",
       "      <td>40</td>\n",
       "      <td>0.00</td>\n",
       "      <td>Full Price</td>\n",
       "    </tr>\n",
       "    <tr>\n",
       "      <td>...</td>\n",
       "      <td>...</td>\n",
       "      <td>...</td>\n",
       "      <td>...</td>\n",
       "      <td>...</td>\n",
       "      <td>...</td>\n",
       "      <td>...</td>\n",
       "      <td>...</td>\n",
       "    </tr>\n",
       "    <tr>\n",
       "      <td>2150</td>\n",
       "      <td>11077/64</td>\n",
       "      <td>11077</td>\n",
       "      <td>64</td>\n",
       "      <td>33.25</td>\n",
       "      <td>2</td>\n",
       "      <td>0.03</td>\n",
       "      <td>Discounted</td>\n",
       "    </tr>\n",
       "    <tr>\n",
       "      <td>2151</td>\n",
       "      <td>11077/66</td>\n",
       "      <td>11077</td>\n",
       "      <td>66</td>\n",
       "      <td>17.00</td>\n",
       "      <td>1</td>\n",
       "      <td>0.00</td>\n",
       "      <td>Full Price</td>\n",
       "    </tr>\n",
       "    <tr>\n",
       "      <td>2152</td>\n",
       "      <td>11077/73</td>\n",
       "      <td>11077</td>\n",
       "      <td>73</td>\n",
       "      <td>15.00</td>\n",
       "      <td>2</td>\n",
       "      <td>0.01</td>\n",
       "      <td>Discounted</td>\n",
       "    </tr>\n",
       "    <tr>\n",
       "      <td>2153</td>\n",
       "      <td>11077/75</td>\n",
       "      <td>11077</td>\n",
       "      <td>75</td>\n",
       "      <td>7.75</td>\n",
       "      <td>4</td>\n",
       "      <td>0.00</td>\n",
       "      <td>Full Price</td>\n",
       "    </tr>\n",
       "    <tr>\n",
       "      <td>2154</td>\n",
       "      <td>11077/77</td>\n",
       "      <td>11077</td>\n",
       "      <td>77</td>\n",
       "      <td>13.00</td>\n",
       "      <td>2</td>\n",
       "      <td>0.00</td>\n",
       "      <td>Full Price</td>\n",
       "    </tr>\n",
       "  </tbody>\n",
       "</table>\n",
       "<p>2155 rows × 7 columns</p>\n",
       "</div>"
      ],
      "text/plain": [
       "            Id  OrderId  ProductId  UnitPrice  Quantity  Discount  discounted\n",
       "0     10248/11    10248         11      14.00        12      0.00  Full Price\n",
       "1     10248/42    10248         42       9.80        10      0.00  Full Price\n",
       "2     10248/72    10248         72      34.80         5      0.00  Full Price\n",
       "3     10249/14    10249         14      18.60         9      0.00  Full Price\n",
       "4     10249/51    10249         51      42.40        40      0.00  Full Price\n",
       "...        ...      ...        ...        ...       ...       ...         ...\n",
       "2150  11077/64    11077         64      33.25         2      0.03  Discounted\n",
       "2151  11077/66    11077         66      17.00         1      0.00  Full Price\n",
       "2152  11077/73    11077         73      15.00         2      0.01  Discounted\n",
       "2153  11077/75    11077         75       7.75         4      0.00  Full Price\n",
       "2154  11077/77    11077         77      13.00         2      0.00  Full Price\n",
       "\n",
       "[2155 rows x 7 columns]"
      ]
     },
     "execution_count": 7,
     "metadata": {},
     "output_type": "execute_result"
    }
   ],
   "source": [
    "## Create 'discounted' column for groupby \n",
    "h1df['discounted'] = h1df['Discount']>0\n",
    "h1df['discounted'] = h1df['discounted'].map({True:'Discounted',False:'Full Price'})\n",
    "h1df"
   ]
  },
  {
   "cell_type": "code",
   "execution_count": 8,
   "metadata": {},
   "outputs": [
    {
     "data": {
      "text/plain": [
       "<matplotlib.axes._subplots.AxesSubplot at 0x1a1726ebe0>"
      ]
     },
     "execution_count": 8,
     "metadata": {},
     "output_type": "execute_result"
    },
    {
     "data": {
      "image/png": "[encoded data removed]",
      "text/plain": [
       "<Figure size 432x288 with 1 Axes>"
      ]
     },
     "metadata": {
      "needs_background": "light"
     },
     "output_type": "display_data"
    }
   ],
   "source": [
    "sns.barplot(data=h1df, x='discounted',y='Quantity',ci=68,)"
   ]
  },
  {
   "cell_type": "markdown",
   "metadata": {},
   "source": [
    "### put data into dict"
   ]
  },
  {
   "cell_type": "code",
   "execution_count": 9,
   "metadata": {},
   "outputs": [
    {
     "data": {
      "text/plain": [
       "{'Full Price': 0       12\n",
       " 1       10\n",
       " 2        5\n",
       " 3        9\n",
       " 4       40\n",
       "         ..\n",
       " 2147     2\n",
       " 2148     2\n",
       " 2151     1\n",
       " 2153     4\n",
       " 2154     2\n",
       " Name: Quantity, Length: 1317, dtype: int64, 'Discounted': 6       35\n",
       " 7       15\n",
       " 8        6\n",
       " 9       15\n",
       " 11      40\n",
       "         ..\n",
       " 2144     2\n",
       " 2146     3\n",
       " 2149     2\n",
       " 2150     2\n",
       " 2152     2\n",
       " Name: Quantity, Length: 838, dtype: int64}"
      ]
     },
     "execution_count": 9,
     "metadata": {},
     "output_type": "execute_result"
    }
   ],
   "source": [
    "h1dict = {}\n",
    "for name in h1df['discounted'].unique():\n",
    "    h1dict[name] = h1df.groupby('discounted').get_group(name)['Quantity']\n",
    "    \n",
    "h1dict"
   ]
  },
  {
   "cell_type": "markdown",
   "metadata": {},
   "source": [
    "## STEP 2: Do we meet the assumptions of the chosen test?"
   ]
  },
  {
   "cell_type": "markdown",
   "metadata": {},
   "source": [
    "Independent t-test (2-sample)\n",
    "\n",
    "- No significant outliers\n",
    "- Normality\n",
    "- Equal Variance"
   ]
  },
  {
   "cell_type": "markdown",
   "metadata": {},
   "source": [
    "### 0. Check for & Remove Outliers"
   ]
  },
  {
   "cell_type": "code",
   "execution_count": 10,
   "metadata": {},
   "outputs": [
    {
     "data": {
      "text/plain": [
       "[Text(0, 0.5, 'Density'),\n",
       " Text(0.5, 1.0, 'Quantity for Full Price vs Discounted Products')]"
      ]
     },
     "execution_count": 10,
     "metadata": {},
     "output_type": "execute_result"
    },
    {
     "data": {
      "image/png": "[encoded data removed]",
      "text/plain": [
       "<Figure size 576x288 with 1 Axes>"
      ]
     },
     "metadata": {
      "needs_background": "light"
     },
     "output_type": "display_data"
    }
   ],
   "source": [
    "##Outlier Removal\n",
    "fig,ax=plt.subplots(figsize=(8,4))\n",
    "for name,values in h1dict.items():\n",
    "    sns.distplot(values,label=name, ax=ax)\n",
    "    \n",
    "    \n",
    "ax.legend()\n",
    "ax.set(title='Quantity for Full Price vs Discounted Products', ylabel='Density')"
   ]
  },
  {
   "cell_type": "code",
   "execution_count": 11,
   "metadata": {},
   "outputs": [
    {
     "name": "stdout",
     "output_type": "stream",
     "text": [
      "Found 20 outliers using Z-score method for Full Price.\n",
      "Found 15 outliers using Z-score method for Discounted.\n"
     ]
    }
   ],
   "source": [
    "for name,values in h1dict.items():\n",
    "    idx_outs = find_outliers_Z(values)\n",
    "    print(f\"Found {idx_outs.sum()} outliers using Z-score method for {name}.\")\n",
    "    h1dict[name] = values[~idx_outs]\n",
    "    "
   ]
  },
  {
   "cell_type": "markdown",
   "metadata": {},
   "source": [
    "### Check result of outlier removal on plot"
   ]
  },
  {
   "cell_type": "code",
   "execution_count": 12,
   "metadata": {},
   "outputs": [
    {
     "data": {
      "text/plain": [
       "[Text(0, 0.5, 'Density'),\n",
       " Text(0.5, 1.0, 'Quantity for Full Price vs Discounted Products')]"
      ]
     },
     "execution_count": 12,
     "metadata": {},
     "output_type": "execute_result"
    },
    {
     "data": {
      "image/png": "[encoded data removed]",
      "text/plain": [
       "<Figure size 576x360 with 1 Axes>"
      ]
     },
     "metadata": {
      "needs_background": "light"
     },
     "output_type": "display_data"
    }
   ],
   "source": [
    "fig,ax=plt.subplots(figsize=(8,5))\n",
    "for name,values in h1dict.items():\n",
    "    sns.distplot(values,label=name, ax=ax)\n",
    "    \n",
    "    \n",
    "ax.legend()\n",
    "ax.set(title='Quantity for Full Price vs Discounted Products', ylabel='Density')"
   ]
  },
  {
   "cell_type": "markdown",
   "metadata": {},
   "source": [
    "### 1. Test Assumption of Normality"
   ]
  },
  {
   "cell_type": "code",
   "execution_count": 13,
   "metadata": {},
   "outputs": [],
   "source": [
    "import scipy.stats as stats"
   ]
  },
  {
   "cell_type": "code",
   "execution_count": 14,
   "metadata": {},
   "outputs": [
    {
     "name": "stdout",
     "output_type": "stream",
     "text": [
      "Group Full Price Normaltest p-value=0.0\n",
      "\t-The data is NOT normal.\n",
      "Group Discounted Normaltest p-value=0.0\n",
      "\t-The data is NOT normal.\n"
     ]
    }
   ],
   "source": [
    "for key,values in h1dict.items():\n",
    "    stat,p = stats.normaltest(values)\n",
    "    print(f\"Group {key} Normaltest p-value={round(p,4)}\")\n",
    "    sig = 'is NOT' if p<.05 else 'IS'\n",
    "\n",
    "    print(f\"\\t-The data {sig} normal.\")"
   ]
  },
  {
   "cell_type": "markdown",
   "metadata": {},
   "source": [
    "### 1B. We don't have normal data:"
   ]
  },
  {
   "cell_type": "code",
   "execution_count": 15,
   "metadata": {},
   "outputs": [
    {
     "data": {
      "text/plain": [
       "(1297, 823)"
      ]
     },
     "execution_count": 15,
     "metadata": {},
     "output_type": "execute_result"
    }
   ],
   "source": [
    "len(h1dict['Full Price']), len(h1dict['Discounted'])"
   ]
  },
  {
   "cell_type": "markdown",
   "metadata": {},
   "source": [
    "But group sizes (n) are bigger than required 15 for each group so we can safely ignore normality assumption. <br>\n",
    "So we move on to equal variance assumption."
   ]
  },
  {
   "cell_type": "markdown",
   "metadata": {},
   "source": [
    "### 2. Test for Equal Variance"
   ]
  },
  {
   "cell_type": "code",
   "execution_count": 16,
   "metadata": {
    "scrolled": true
   },
   "outputs": [],
   "source": [
    "h1data = []\n",
    "for key,vals in h1dict.items():\n",
    "    h1data.append(vals)"
   ]
  },
  {
   "cell_type": "code",
   "execution_count": 17,
   "metadata": {},
   "outputs": [
    {
     "data": {
      "text/plain": [
       "0       12\n",
       "1       10\n",
       "2        5\n",
       "3        9\n",
       "4       40\n",
       "        ..\n",
       "2147     2\n",
       "2148     2\n",
       "2151     1\n",
       "2153     4\n",
       "2154     2\n",
       "Name: Quantity, Length: 1297, dtype: int64"
      ]
     },
     "execution_count": 17,
     "metadata": {},
     "output_type": "execute_result"
    }
   ],
   "source": [
    "h1data[0]"
   ]
  },
  {
   "cell_type": "code",
   "execution_count": 18,
   "metadata": {},
   "outputs": [
    {
     "data": {
      "text/plain": [
       "LeveneResult(statistic=19.187113832590878, pvalue=1.2429073348187694e-05)"
      ]
     },
     "execution_count": 18,
     "metadata": {},
     "output_type": "execute_result"
    }
   ],
   "source": [
    "stats.levene(h1data[0],h1data[1])"
   ]
  },
  {
   "cell_type": "code",
   "execution_count": 19,
   "metadata": {},
   "outputs": [
    {
     "name": "stdout",
     "output_type": "stream",
     "text": [
      "Levene's Test for Equal Variance p-value=0.0\n",
      "\t-The groups do NOT have equal variance.\n"
     ]
    }
   ],
   "source": [
    "stat,p = stats.levene(*h1data)\n",
    "print(f\"Levene's Test for Equal Variance p-value={round(p,4)}\")\n",
    "sig = 'do NOT' if p<.05 else 'DO'\n",
    "\n",
    "print(f\"\\t-The groups {sig} have equal variance.\")"
   ]
  },
  {
   "cell_type": "markdown",
   "metadata": {},
   "source": [
    "### Failed the assumption of equal variance:\n",
    "\n",
    "Since we don't have equal variance and data is not normal, we need to use a non-parametric version of a t-test. \n",
    " - The non-parametric version for 2 sample is Mann-Whitney U test.\n",
    " - Works from medians instead of means. \n",
    " - scipy.stats.mannwhitneyu()"
   ]
  },
  {
   "cell_type": "markdown",
   "metadata": {},
   "source": [
    "## STEP 3: Interpret Result & Post-Hoc Tests"
   ]
  },
  {
   "cell_type": "markdown",
   "metadata": {},
   "source": [
    "### Perform hypothesis test from summary table above to get your p-value."
   ]
  },
  {
   "cell_type": "markdown",
   "metadata": {},
   "source": [
    "- If p value is < $\\alpha$:\n",
    "\n",
    "    - Reject the null hypothesis.\n",
    "    - Calculate effect size (e.g. Cohen's $d$)\n",
    "- If p<.05 AND you have multiple groups (i.e. ANOVA)\n",
    "\n",
    "    - Must run a pairwise Tukey's test to know which groups were significantly different.\n",
    "    - Tukey pairwise comparison test\n",
    "    - statsmodels.stats.multicomp.pairwise_tukeyhsd\n",
    "- Report statistical power (optional)"
   ]
  },
  {
   "cell_type": "code",
   "execution_count": 20,
   "metadata": {},
   "outputs": [
    {
     "name": "stdout",
     "output_type": "stream",
     "text": [
      "Mann Whitney U p-value=0.0\n"
     ]
    }
   ],
   "source": [
    "stat,h1p = stats.mannwhitneyu(h1data[0],h1data[1])\n",
    "print(f\"Mann Whitney U p-value={round(h1p,4)}\")"
   ]
  },
  {
   "cell_type": "markdown",
   "metadata": {},
   "source": [
    "Mann Whitney p val defaults to one-sided test, so double that p val for our two sided test, and we will reject null hypothesis. "
   ]
  },
  {
   "cell_type": "markdown",
   "metadata": {},
   "source": [
    "### Calculate effect size (e.g. Cohen's  𝑑 )"
   ]
  },
  {
   "cell_type": "code",
   "execution_count": 20,
   "metadata": {},
   "outputs": [
    {
     "data": {
      "text/plain": [
       "-0.32001140965727837"
      ]
     },
     "execution_count": 20,
     "metadata": {},
     "output_type": "execute_result"
    }
   ],
   "source": [
    "h1effectsize = Cohen_d(h1dict['Full Price'],h1dict['Discounted'])\n",
    "h1effectsize"
   ]
  },
  {
   "cell_type": "markdown",
   "metadata": {},
   "source": [
    "# --QUESTION!"
   ]
  },
  {
   "cell_type": "markdown",
   "metadata": {},
   "source": [
    "0.3 effect size is small. What does this tell us?"
   ]
  },
  {
   "cell_type": "markdown",
   "metadata": {},
   "source": [
    "### Report statistical power (optional)"
   ]
  },
  {
   "cell_type": "markdown",
   "metadata": {},
   "source": [
    "statsmodels.stats.power:\n",
    "TTestIndPower , TTestPower"
   ]
  },
  {
   "cell_type": "code",
   "execution_count": 21,
   "metadata": {},
   "outputs": [],
   "source": [
    "from statsmodels.stats.power import TTestIndPower, TTestPower\n",
    "power_analysis = TTestIndPower()"
   ]
  },
  {
   "cell_type": "code",
   "execution_count": 22,
   "metadata": {},
   "outputs": [
    {
     "data": {
      "text/plain": [
       "2120"
      ]
     },
     "execution_count": 22,
     "metadata": {},
     "output_type": "execute_result"
    }
   ],
   "source": [
    "len(h1dict['Full Price']+h1dict['Discounted'])"
   ]
  },
  {
   "cell_type": "code",
   "execution_count": 23,
   "metadata": {},
   "outputs": [
    {
     "data": {
      "text/plain": [
       "0.9998181894007312"
      ]
     },
     "execution_count": 23,
     "metadata": {},
     "output_type": "execute_result"
    }
   ],
   "source": [
    "# show the power to see how well we can reject null.\n",
    "power_analysis.solve_power(effect_size=h1effectsize, nobs1=2120, alpha=h1p)"
   ]
  },
  {
   "cell_type": "code",
   "execution_count": 24,
   "metadata": {},
   "outputs": [],
   "source": [
    "# power is .99 so yeah we have a solid bet of rejecting null hypothesis and not getting any type 1 errors."
   ]
  },
  {
   "cell_type": "markdown",
   "metadata": {},
   "source": [
    "## What levels of discount?"
   ]
  },
  {
   "cell_type": "markdown",
   "metadata": {},
   "source": [
    "### If p<.05 AND you have multiple groups (i.e. ANOVA)\n",
    "\n",
    "- Must run a pairwise Tukey's test to know which groups were significantly different.\n",
    "- Tukey pairwise comparison test\n",
    "- statsmodels.stats.multicomp.pairwise_tukeyhsd"
   ]
  },
  {
   "cell_type": "markdown",
   "metadata": {},
   "source": [
    "> Does discount amount have a statistically significant effect on the quantity of a product in an order? If so, at what level(s) of discount? "
   ]
  },
  {
   "cell_type": "markdown",
   "metadata": {},
   "source": [
    "### Make dict into dataframes for tukeys"
   ]
  },
  {
   "cell_type": "code",
   "execution_count": 25,
   "metadata": {},
   "outputs": [],
   "source": [
    "def prep_data_for_tukeys(data):\n",
    "    \"\"\"Accepts a dictionary with group names as the keys \n",
    "    and pandas series as the values. \n",
    "    \n",
    "    Returns a dataframe ready for tukeys test:\n",
    "    - with a 'data' column and a 'group' column for sms.stats.multicomp.pairwise_tukeyhsd \n",
    "    \n",
    "    Example Use:\n",
    "    df_tukey = prep_data_for_tukeys(grp_data)\n",
    "    tukey = sms.stats.multicomp.pairwise_tukeyhsd(df_tukey['data'], df_tukey['group'])\n",
    "    tukey.summary()\n",
    "    \"\"\"\n",
    "    df_tukey = pd.DataFrame(columns=['data','group'])\n",
    "    for k,v in  data.items():\n",
    "        grp_df = v.rename('data').to_frame() \n",
    "        grp_df['group'] = k\n",
    "        df_tukey=pd.concat([df_tukey, grp_df],axis=0)\n",
    "\n",
    "\t## New lines added to ensure compatibility with tukey's test\n",
    "    df_tukey['group'] = df_tukey['group'].astype('str')\n",
    "    df_tukey['data'] = df_tukey['data'].astype('float')\n",
    "    return df_tukey\n"
   ]
  },
  {
   "cell_type": "code",
   "execution_count": 28,
   "metadata": {},
   "outputs": [],
   "source": [
    "from statsmodels.stats.multicomp import pairwise_tukeyhsd\n"
   ]
  },
  {
   "cell_type": "markdown",
   "metadata": {},
   "source": [
    "# --QUESTION!"
   ]
  },
  {
   "cell_type": "markdown",
   "metadata": {},
   "source": [
    "This tukeys function below and the barplot following it use my h1 dataframe before we changed it into dictionary and removed outliers, so it's using all of the data including outliers to determine the test. How should I fix this. I can't use h1dict, because that one does not contain data for the discount amounts to split into groups based on discount, which is what we need to do tukeys, not whether it was discounted or full price like in previous tests. "
   ]
  },
  {
   "cell_type": "code",
   "execution_count": 34,
   "metadata": {
    "scrolled": true
   },
   "outputs": [
    {
     "data": {
      "text/html": [
       "<table class=\"simpletable\">\n",
       "<caption>Multiple Comparison of Means - Tukey HSD, FWER=0.05</caption>\n",
       "<tr>\n",
       "  <th>group1</th> <th>group2</th> <th>meandiff</th>  <th>p-adj</th>   <th>lower</th>   <th>upper</th>  <th>reject</th>\n",
       "</tr>\n",
       "<tr>\n",
       "    <td>0.0</td>   <td>0.01</td>  <td>-19.7153</td>   <td>0.9</td>  <td>-80.3306</td> <td>40.9001</td>  <td>False</td>\n",
       "</tr>\n",
       "<tr>\n",
       "    <td>0.0</td>   <td>0.02</td>  <td>-19.7153</td>   <td>0.9</td>   <td>-62.593</td> <td>23.1625</td>  <td>False</td>\n",
       "</tr>\n",
       "<tr>\n",
       "    <td>0.0</td>   <td>0.03</td>  <td>-20.0486</td>  <td>0.725</td> <td>-55.0714</td> <td>14.9742</td>  <td>False</td>\n",
       "</tr>\n",
       "<tr>\n",
       "    <td>0.0</td>   <td>0.04</td>  <td>-20.7153</td>   <td>0.9</td>  <td>-81.3306</td> <td>39.9001</td>  <td>False</td>\n",
       "</tr>\n",
       "<tr>\n",
       "    <td>0.0</td>   <td>0.05</td>   <td>6.2955</td>  <td>0.0011</td>  <td>1.5381</td>  <td>11.053</td>   <td>True</td> \n",
       "</tr>\n",
       "<tr>\n",
       "    <td>0.0</td>   <td>0.06</td>  <td>-19.7153</td>   <td>0.9</td>  <td>-80.3306</td> <td>40.9001</td>  <td>False</td>\n",
       "</tr>\n",
       "<tr>\n",
       "    <td>0.0</td>    <td>0.1</td>   <td>3.5217</td>  <td>0.4269</td>  <td>-1.3783</td> <td>8.4217</td>   <td>False</td>\n",
       "</tr>\n",
       "<tr>\n",
       "    <td>0.0</td>   <td>0.15</td>   <td>6.6669</td>  <td>0.0014</td>   <td>1.551</td>  <td>11.7828</td>  <td>True</td> \n",
       "</tr>\n",
       "<tr>\n",
       "    <td>0.0</td>    <td>0.2</td>   <td>5.3096</td>  <td>0.0303</td>  <td>0.2508</td>  <td>10.3684</td>  <td>True</td> \n",
       "</tr>\n",
       "<tr>\n",
       "    <td>0.0</td>   <td>0.25</td>    <td>6.525</td>  <td>0.0023</td>  <td>1.3647</td>  <td>11.6852</td>  <td>True</td> \n",
       "</tr>\n",
       "<tr>\n",
       "   <td>0.01</td>   <td>0.02</td>     <td>0.0</td>     <td>0.9</td>  <td>-74.2101</td> <td>74.2101</td>  <td>False</td>\n",
       "</tr>\n",
       "<tr>\n",
       "   <td>0.01</td>   <td>0.03</td>   <td>-0.3333</td>   <td>0.9</td>  <td>-70.2993</td> <td>69.6326</td>  <td>False</td>\n",
       "</tr>\n",
       "<tr>\n",
       "   <td>0.01</td>   <td>0.04</td>    <td>-1.0</td>     <td>0.9</td>  <td>-86.6905</td> <td>84.6905</td>  <td>False</td>\n",
       "</tr>\n",
       "<tr>\n",
       "   <td>0.01</td>   <td>0.05</td>   <td>26.0108</td>   <td>0.9</td>   <td>-34.745</td> <td>86.7667</td>  <td>False</td>\n",
       "</tr>\n",
       "<tr>\n",
       "   <td>0.01</td>   <td>0.06</td>     <td>0.0</td>     <td>0.9</td>  <td>-85.6905</td> <td>85.6905</td>  <td>False</td>\n",
       "</tr>\n",
       "<tr>\n",
       "   <td>0.01</td>    <td>0.1</td>   <td>23.237</td>    <td>0.9</td>  <td>-37.5302</td> <td>84.0042</td>  <td>False</td>\n",
       "</tr>\n",
       "<tr>\n",
       "   <td>0.01</td>   <td>0.15</td>   <td>26.3822</td>   <td>0.9</td>  <td>-34.4028</td> <td>87.1671</td>  <td>False</td>\n",
       "</tr>\n",
       "<tr>\n",
       "   <td>0.01</td>    <td>0.2</td>   <td>25.0248</td>   <td>0.9</td>  <td>-35.7554</td> <td>85.805</td>   <td>False</td>\n",
       "</tr>\n",
       "<tr>\n",
       "   <td>0.01</td>   <td>0.25</td>   <td>26.2403</td>   <td>0.9</td>  <td>-34.5485</td> <td>87.029</td>   <td>False</td>\n",
       "</tr>\n",
       "<tr>\n",
       "   <td>0.02</td>   <td>0.03</td>   <td>-0.3333</td>   <td>0.9</td>  <td>-55.6463</td> <td>54.9796</td>  <td>False</td>\n",
       "</tr>\n",
       "<tr>\n",
       "   <td>0.02</td>   <td>0.04</td>    <td>-1.0</td>     <td>0.9</td>  <td>-75.2101</td> <td>73.2101</td>  <td>False</td>\n",
       "</tr>\n",
       "<tr>\n",
       "   <td>0.02</td>   <td>0.05</td>   <td>26.0108</td> <td>0.6622</td> <td>-17.0654</td> <td>69.087</td>   <td>False</td>\n",
       "</tr>\n",
       "<tr>\n",
       "   <td>0.02</td>   <td>0.06</td>     <td>0.0</td>     <td>0.9</td>  <td>-74.2101</td> <td>74.2101</td>  <td>False</td>\n",
       "</tr>\n",
       "<tr>\n",
       "   <td>0.02</td>    <td>0.1</td>   <td>23.237</td>  <td>0.7914</td> <td>-19.8552</td> <td>66.3292</td>  <td>False</td>\n",
       "</tr>\n",
       "<tr>\n",
       "   <td>0.02</td>   <td>0.15</td>   <td>26.3822</td> <td>0.6461</td> <td>-16.7351</td> <td>69.4994</td>  <td>False</td>\n",
       "</tr>\n",
       "<tr>\n",
       "   <td>0.02</td>    <td>0.2</td>   <td>25.0248</td> <td>0.7089</td> <td>-18.0857</td> <td>68.1354</td>  <td>False</td>\n",
       "</tr>\n",
       "<tr>\n",
       "   <td>0.02</td>   <td>0.25</td>   <td>26.2403</td> <td>0.6528</td> <td>-16.8823</td> <td>69.3628</td>  <td>False</td>\n",
       "</tr>\n",
       "<tr>\n",
       "   <td>0.03</td>   <td>0.04</td>   <td>-0.6667</td>   <td>0.9</td>  <td>-70.6326</td> <td>69.2993</td>  <td>False</td>\n",
       "</tr>\n",
       "<tr>\n",
       "   <td>0.03</td>   <td>0.05</td>   <td>26.3441</td> <td>0.3639</td>  <td>-8.9214</td> <td>61.6096</td>  <td>False</td>\n",
       "</tr>\n",
       "<tr>\n",
       "   <td>0.03</td>   <td>0.06</td>   <td>0.3333</td>    <td>0.9</td>  <td>-69.6326</td> <td>70.2993</td>  <td>False</td>\n",
       "</tr>\n",
       "<tr>\n",
       "   <td>0.03</td>    <td>0.1</td>   <td>23.5703</td> <td>0.5338</td> <td>-11.7147</td> <td>58.8553</td>  <td>False</td>\n",
       "</tr>\n",
       "<tr>\n",
       "   <td>0.03</td>   <td>0.15</td>   <td>26.7155</td> <td>0.3436</td>  <td>-8.6001</td> <td>62.0311</td>  <td>False</td>\n",
       "</tr>\n",
       "<tr>\n",
       "   <td>0.03</td>    <td>0.2</td>   <td>25.3582</td>  <td>0.428</td>  <td>-9.9492</td> <td>60.6656</td>  <td>False</td>\n",
       "</tr>\n",
       "<tr>\n",
       "   <td>0.03</td>   <td>0.25</td>   <td>26.5736</td> <td>0.3525</td>  <td>-8.7485</td> <td>61.8957</td>  <td>False</td>\n",
       "</tr>\n",
       "<tr>\n",
       "   <td>0.04</td>   <td>0.05</td>   <td>27.0108</td>   <td>0.9</td>   <td>-33.745</td> <td>87.7667</td>  <td>False</td>\n",
       "</tr>\n",
       "<tr>\n",
       "   <td>0.04</td>   <td>0.06</td>     <td>1.0</td>     <td>0.9</td>  <td>-84.6905</td> <td>86.6905</td>  <td>False</td>\n",
       "</tr>\n",
       "<tr>\n",
       "   <td>0.04</td>    <td>0.1</td>   <td>24.237</td>    <td>0.9</td>  <td>-36.5302</td> <td>85.0042</td>  <td>False</td>\n",
       "</tr>\n",
       "<tr>\n",
       "   <td>0.04</td>   <td>0.15</td>   <td>27.3822</td>   <td>0.9</td>  <td>-33.4028</td> <td>88.1671</td>  <td>False</td>\n",
       "</tr>\n",
       "<tr>\n",
       "   <td>0.04</td>    <td>0.2</td>   <td>26.0248</td>   <td>0.9</td>  <td>-34.7554</td> <td>86.805</td>   <td>False</td>\n",
       "</tr>\n",
       "<tr>\n",
       "   <td>0.04</td>   <td>0.25</td>   <td>27.2403</td>   <td>0.9</td>  <td>-33.5485</td> <td>88.029</td>   <td>False</td>\n",
       "</tr>\n",
       "<tr>\n",
       "   <td>0.05</td>   <td>0.06</td>  <td>-26.0108</td>   <td>0.9</td>  <td>-86.7667</td> <td>34.745</td>   <td>False</td>\n",
       "</tr>\n",
       "<tr>\n",
       "   <td>0.05</td>    <td>0.1</td>   <td>-2.7738</td>   <td>0.9</td>   <td>-9.1822</td> <td>3.6346</td>   <td>False</td>\n",
       "</tr>\n",
       "<tr>\n",
       "   <td>0.05</td>   <td>0.15</td>   <td>0.3714</td>    <td>0.9</td>   <td>-6.2036</td> <td>6.9463</td>   <td>False</td>\n",
       "</tr>\n",
       "<tr>\n",
       "   <td>0.05</td>    <td>0.2</td>   <td>-0.986</td>    <td>0.9</td>   <td>-7.5166</td> <td>5.5447</td>   <td>False</td>\n",
       "</tr>\n",
       "<tr>\n",
       "   <td>0.05</td>   <td>0.25</td>   <td>0.2294</td>    <td>0.9</td>   <td>-6.3801</td>  <td>6.839</td>   <td>False</td>\n",
       "</tr>\n",
       "<tr>\n",
       "   <td>0.06</td>    <td>0.1</td>   <td>23.237</td>    <td>0.9</td>  <td>-37.5302</td> <td>84.0042</td>  <td>False</td>\n",
       "</tr>\n",
       "<tr>\n",
       "   <td>0.06</td>   <td>0.15</td>   <td>26.3822</td>   <td>0.9</td>  <td>-34.4028</td> <td>87.1671</td>  <td>False</td>\n",
       "</tr>\n",
       "<tr>\n",
       "   <td>0.06</td>    <td>0.2</td>   <td>25.0248</td>   <td>0.9</td>  <td>-35.7554</td> <td>85.805</td>   <td>False</td>\n",
       "</tr>\n",
       "<tr>\n",
       "   <td>0.06</td>   <td>0.25</td>   <td>26.2403</td>   <td>0.9</td>  <td>-34.5485</td> <td>87.029</td>   <td>False</td>\n",
       "</tr>\n",
       "<tr>\n",
       "    <td>0.1</td>   <td>0.15</td>   <td>3.1452</td>    <td>0.9</td>   <td>-3.5337</td>  <td>9.824</td>   <td>False</td>\n",
       "</tr>\n",
       "<tr>\n",
       "    <td>0.1</td>    <td>0.2</td>   <td>1.7879</td>    <td>0.9</td>   <td>-4.8474</td> <td>8.4231</td>   <td>False</td>\n",
       "</tr>\n",
       "<tr>\n",
       "    <td>0.1</td>   <td>0.25</td>   <td>3.0033</td>    <td>0.9</td>   <td>-3.7096</td> <td>9.7161</td>   <td>False</td>\n",
       "</tr>\n",
       "<tr>\n",
       "   <td>0.15</td>    <td>0.2</td>   <td>-1.3573</td>   <td>0.9</td>   <td>-8.1536</td> <td>5.4389</td>   <td>False</td>\n",
       "</tr>\n",
       "<tr>\n",
       "   <td>0.15</td>   <td>0.25</td>   <td>-0.1419</td>   <td>0.9</td>   <td>-7.014</td>  <td>6.7302</td>   <td>False</td>\n",
       "</tr>\n",
       "<tr>\n",
       "    <td>0.2</td>   <td>0.25</td>   <td>1.2154</td>    <td>0.9</td>   <td>-5.6143</td> <td>8.0451</td>   <td>False</td>\n",
       "</tr>\n",
       "</table>"
      ],
      "text/plain": [
       "<class 'statsmodels.iolib.table.SimpleTable'>"
      ]
     },
     "execution_count": 34,
     "metadata": {},
     "output_type": "execute_result"
    }
   ],
   "source": [
    "# contains all outliers prior to outlier removal\n",
    "h1tukey = pairwise_tukeyhsd(h1df['Quantity'],h1df['Discount'])\n",
    "h1tukey.summary()"
   ]
  },
  {
   "cell_type": "code",
   "execution_count": 35,
   "metadata": {},
   "outputs": [
    {
     "data": {
      "text/plain": [
       "<matplotlib.axes._subplots.AxesSubplot at 0x1a1906e2b0>"
      ]
     },
     "execution_count": 35,
     "metadata": {},
     "output_type": "execute_result"
    },
    {
     "data": {
      "image/png": "[encoded data removed]",
      "text/plain": [
       "<Figure size 432x288 with 1 Axes>"
      ]
     },
     "metadata": {
      "needs_background": "light"
     },
     "output_type": "display_data"
    }
   ],
   "source": [
    "# contains all outliers prior to outlier removal\n",
    "\n",
    "sns.barplot(data=h1df,x='Discount',y='Quantity',ci=68)"
   ]
  },
  {
   "cell_type": "markdown",
   "metadata": {},
   "source": [
    "# Hypothesis 2"
   ]
  },
  {
   "cell_type": "markdown",
   "metadata": {},
   "source": [
    "## Question"
   ]
  },
  {
   "cell_type": "markdown",
   "metadata": {},
   "source": [
    "> Does discount amount have a statistically significant effect on the total spent ($) on a product in an order? If so, at what level(s) of discount?"
   ]
  },
  {
   "cell_type": "markdown",
   "metadata": {},
   "source": [
    "## Null and Alternative Hypothesis"
   ]
  },
  {
   "cell_type": "markdown",
   "metadata": {},
   "source": [
    "- $H_0$: Customers spend the same total amounts on both discounted and non-discounted products. \n",
    "\n",
    "- $H_1$: Customers spend different total amounts of money on discounted products vs full price products. "
   ]
  },
  {
   "cell_type": "markdown",
   "metadata": {},
   "source": [
    "## STEP 1: Determine the category/type of test based on your data"
   ]
  },
  {
   "cell_type": "markdown",
   "metadata": {},
   "source": [
    "Type of data: numeric <br>\n",
    "    How many groups compared: Two different groups if comparing discount or full price.\n",
    "        - So we use 2 sample t-test"
   ]
  },
  {
   "cell_type": "markdown",
   "metadata": {},
   "source": [
    "### split data into 2 groups"
   ]
  },
  {
   "cell_type": "code",
   "execution_count": 30,
   "metadata": {},
   "outputs": [
    {
     "data": {
      "text/plain": [
       "['Id', 'UnitPrice', 'Quantity', 'Discount']"
      ]
     },
     "execution_count": 30,
     "metadata": {},
     "output_type": "execute_result"
    }
   ],
   "source": [
    "cur.execute(\"\"\"SELECT Id, UnitPrice, Quantity, Discount from OrderDetail\"\"\")\n",
    "col_names=[x[0] for x in cur.description]\n",
    "col_names"
   ]
  },
  {
   "cell_type": "code",
   "execution_count": 31,
   "metadata": {},
   "outputs": [
    {
     "data": {
      "text/html": [
       "<div>\n",
       "<style scoped>\n",
       "    .dataframe tbody tr th:only-of-type {\n",
       "        vertical-align: middle;\n",
       "    }\n",
       "\n",
       "    .dataframe tbody tr th {\n",
       "        vertical-align: top;\n",
       "    }\n",
       "\n",
       "    .dataframe thead th {\n",
       "        text-align: right;\n",
       "    }\n",
       "</style>\n",
       "<table border=\"1\" class=\"dataframe\">\n",
       "  <thead>\n",
       "    <tr style=\"text-align: right;\">\n",
       "      <th></th>\n",
       "      <th>Id</th>\n",
       "      <th>UnitPrice</th>\n",
       "      <th>Quantity</th>\n",
       "      <th>Discount</th>\n",
       "    </tr>\n",
       "  </thead>\n",
       "  <tbody>\n",
       "    <tr>\n",
       "      <td>0</td>\n",
       "      <td>10248/11</td>\n",
       "      <td>14.00</td>\n",
       "      <td>12</td>\n",
       "      <td>0.00</td>\n",
       "    </tr>\n",
       "    <tr>\n",
       "      <td>1</td>\n",
       "      <td>10248/42</td>\n",
       "      <td>9.80</td>\n",
       "      <td>10</td>\n",
       "      <td>0.00</td>\n",
       "    </tr>\n",
       "    <tr>\n",
       "      <td>2</td>\n",
       "      <td>10248/72</td>\n",
       "      <td>34.80</td>\n",
       "      <td>5</td>\n",
       "      <td>0.00</td>\n",
       "    </tr>\n",
       "    <tr>\n",
       "      <td>3</td>\n",
       "      <td>10249/14</td>\n",
       "      <td>18.60</td>\n",
       "      <td>9</td>\n",
       "      <td>0.00</td>\n",
       "    </tr>\n",
       "    <tr>\n",
       "      <td>4</td>\n",
       "      <td>10249/51</td>\n",
       "      <td>42.40</td>\n",
       "      <td>40</td>\n",
       "      <td>0.00</td>\n",
       "    </tr>\n",
       "    <tr>\n",
       "      <td>...</td>\n",
       "      <td>...</td>\n",
       "      <td>...</td>\n",
       "      <td>...</td>\n",
       "      <td>...</td>\n",
       "    </tr>\n",
       "    <tr>\n",
       "      <td>2150</td>\n",
       "      <td>11077/64</td>\n",
       "      <td>33.25</td>\n",
       "      <td>2</td>\n",
       "      <td>0.03</td>\n",
       "    </tr>\n",
       "    <tr>\n",
       "      <td>2151</td>\n",
       "      <td>11077/66</td>\n",
       "      <td>17.00</td>\n",
       "      <td>1</td>\n",
       "      <td>0.00</td>\n",
       "    </tr>\n",
       "    <tr>\n",
       "      <td>2152</td>\n",
       "      <td>11077/73</td>\n",
       "      <td>15.00</td>\n",
       "      <td>2</td>\n",
       "      <td>0.01</td>\n",
       "    </tr>\n",
       "    <tr>\n",
       "      <td>2153</td>\n",
       "      <td>11077/75</td>\n",
       "      <td>7.75</td>\n",
       "      <td>4</td>\n",
       "      <td>0.00</td>\n",
       "    </tr>\n",
       "    <tr>\n",
       "      <td>2154</td>\n",
       "      <td>11077/77</td>\n",
       "      <td>13.00</td>\n",
       "      <td>2</td>\n",
       "      <td>0.00</td>\n",
       "    </tr>\n",
       "  </tbody>\n",
       "</table>\n",
       "<p>2155 rows × 4 columns</p>\n",
       "</div>"
      ],
      "text/plain": [
       "            Id  UnitPrice  Quantity  Discount\n",
       "0     10248/11      14.00        12      0.00\n",
       "1     10248/42       9.80        10      0.00\n",
       "2     10248/72      34.80         5      0.00\n",
       "3     10249/14      18.60         9      0.00\n",
       "4     10249/51      42.40        40      0.00\n",
       "...        ...        ...       ...       ...\n",
       "2150  11077/64      33.25         2      0.03\n",
       "2151  11077/66      17.00         1      0.00\n",
       "2152  11077/73      15.00         2      0.01\n",
       "2153  11077/75       7.75         4      0.00\n",
       "2154  11077/77      13.00         2      0.00\n",
       "\n",
       "[2155 rows x 4 columns]"
      ]
     },
     "execution_count": 31,
     "metadata": {},
     "output_type": "execute_result"
    }
   ],
   "source": [
    "h2df = pd.DataFrame(cur.fetchall(), columns=col_names)\n",
    "h2df"
   ]
  },
  {
   "cell_type": "code",
   "execution_count": 32,
   "metadata": {},
   "outputs": [
    {
     "data": {
      "text/html": [
       "<div>\n",
       "<style scoped>\n",
       "    .dataframe tbody tr th:only-of-type {\n",
       "        vertical-align: middle;\n",
       "    }\n",
       "\n",
       "    .dataframe tbody tr th {\n",
       "        vertical-align: top;\n",
       "    }\n",
       "\n",
       "    .dataframe thead th {\n",
       "        text-align: right;\n",
       "    }\n",
       "</style>\n",
       "<table border=\"1\" class=\"dataframe\">\n",
       "  <thead>\n",
       "    <tr style=\"text-align: right;\">\n",
       "      <th></th>\n",
       "      <th>Id</th>\n",
       "      <th>UnitPrice</th>\n",
       "      <th>Quantity</th>\n",
       "      <th>Discount</th>\n",
       "      <th>discounted</th>\n",
       "    </tr>\n",
       "  </thead>\n",
       "  <tbody>\n",
       "    <tr>\n",
       "      <td>0</td>\n",
       "      <td>10248/11</td>\n",
       "      <td>14.00</td>\n",
       "      <td>12</td>\n",
       "      <td>0.00</td>\n",
       "      <td>Full Price</td>\n",
       "    </tr>\n",
       "    <tr>\n",
       "      <td>1</td>\n",
       "      <td>10248/42</td>\n",
       "      <td>9.80</td>\n",
       "      <td>10</td>\n",
       "      <td>0.00</td>\n",
       "      <td>Full Price</td>\n",
       "    </tr>\n",
       "    <tr>\n",
       "      <td>2</td>\n",
       "      <td>10248/72</td>\n",
       "      <td>34.80</td>\n",
       "      <td>5</td>\n",
       "      <td>0.00</td>\n",
       "      <td>Full Price</td>\n",
       "    </tr>\n",
       "    <tr>\n",
       "      <td>3</td>\n",
       "      <td>10249/14</td>\n",
       "      <td>18.60</td>\n",
       "      <td>9</td>\n",
       "      <td>0.00</td>\n",
       "      <td>Full Price</td>\n",
       "    </tr>\n",
       "    <tr>\n",
       "      <td>4</td>\n",
       "      <td>10249/51</td>\n",
       "      <td>42.40</td>\n",
       "      <td>40</td>\n",
       "      <td>0.00</td>\n",
       "      <td>Full Price</td>\n",
       "    </tr>\n",
       "    <tr>\n",
       "      <td>...</td>\n",
       "      <td>...</td>\n",
       "      <td>...</td>\n",
       "      <td>...</td>\n",
       "      <td>...</td>\n",
       "      <td>...</td>\n",
       "    </tr>\n",
       "    <tr>\n",
       "      <td>2150</td>\n",
       "      <td>11077/64</td>\n",
       "      <td>33.25</td>\n",
       "      <td>2</td>\n",
       "      <td>0.03</td>\n",
       "      <td>Discounted</td>\n",
       "    </tr>\n",
       "    <tr>\n",
       "      <td>2151</td>\n",
       "      <td>11077/66</td>\n",
       "      <td>17.00</td>\n",
       "      <td>1</td>\n",
       "      <td>0.00</td>\n",
       "      <td>Full Price</td>\n",
       "    </tr>\n",
       "    <tr>\n",
       "      <td>2152</td>\n",
       "      <td>11077/73</td>\n",
       "      <td>15.00</td>\n",
       "      <td>2</td>\n",
       "      <td>0.01</td>\n",
       "      <td>Discounted</td>\n",
       "    </tr>\n",
       "    <tr>\n",
       "      <td>2153</td>\n",
       "      <td>11077/75</td>\n",
       "      <td>7.75</td>\n",
       "      <td>4</td>\n",
       "      <td>0.00</td>\n",
       "      <td>Full Price</td>\n",
       "    </tr>\n",
       "    <tr>\n",
       "      <td>2154</td>\n",
       "      <td>11077/77</td>\n",
       "      <td>13.00</td>\n",
       "      <td>2</td>\n",
       "      <td>0.00</td>\n",
       "      <td>Full Price</td>\n",
       "    </tr>\n",
       "  </tbody>\n",
       "</table>\n",
       "<p>2155 rows × 5 columns</p>\n",
       "</div>"
      ],
      "text/plain": [
       "            Id  UnitPrice  Quantity  Discount  discounted\n",
       "0     10248/11      14.00        12      0.00  Full Price\n",
       "1     10248/42       9.80        10      0.00  Full Price\n",
       "2     10248/72      34.80         5      0.00  Full Price\n",
       "3     10249/14      18.60         9      0.00  Full Price\n",
       "4     10249/51      42.40        40      0.00  Full Price\n",
       "...        ...        ...       ...       ...         ...\n",
       "2150  11077/64      33.25         2      0.03  Discounted\n",
       "2151  11077/66      17.00         1      0.00  Full Price\n",
       "2152  11077/73      15.00         2      0.01  Discounted\n",
       "2153  11077/75       7.75         4      0.00  Full Price\n",
       "2154  11077/77      13.00         2      0.00  Full Price\n",
       "\n",
       "[2155 rows x 5 columns]"
      ]
     },
     "execution_count": 32,
     "metadata": {},
     "output_type": "execute_result"
    }
   ],
   "source": [
    "## Create 'discounted' column for groupby \n",
    "h2df['discounted'] = h2df['Discount']>0\n",
    "h2df['discounted'] = h2df['discounted'].map({True:'Discounted',False:'Full Price'})\n",
    "h2df"
   ]
  },
  {
   "cell_type": "code",
   "execution_count": 33,
   "metadata": {},
   "outputs": [
    {
     "data": {
      "text/html": [
       "<div>\n",
       "<style scoped>\n",
       "    .dataframe tbody tr th:only-of-type {\n",
       "        vertical-align: middle;\n",
       "    }\n",
       "\n",
       "    .dataframe tbody tr th {\n",
       "        vertical-align: top;\n",
       "    }\n",
       "\n",
       "    .dataframe thead th {\n",
       "        text-align: right;\n",
       "    }\n",
       "</style>\n",
       "<table border=\"1\" class=\"dataframe\">\n",
       "  <thead>\n",
       "    <tr style=\"text-align: right;\">\n",
       "      <th></th>\n",
       "      <th>Id</th>\n",
       "      <th>UnitPrice</th>\n",
       "      <th>Quantity</th>\n",
       "      <th>Discount</th>\n",
       "      <th>discounted</th>\n",
       "      <th>Total Spent</th>\n",
       "    </tr>\n",
       "  </thead>\n",
       "  <tbody>\n",
       "    <tr>\n",
       "      <td>0</td>\n",
       "      <td>10248/11</td>\n",
       "      <td>14.00</td>\n",
       "      <td>12</td>\n",
       "      <td>0.00</td>\n",
       "      <td>Full Price</td>\n",
       "      <td>168.0</td>\n",
       "    </tr>\n",
       "    <tr>\n",
       "      <td>1</td>\n",
       "      <td>10248/42</td>\n",
       "      <td>9.80</td>\n",
       "      <td>10</td>\n",
       "      <td>0.00</td>\n",
       "      <td>Full Price</td>\n",
       "      <td>98.0</td>\n",
       "    </tr>\n",
       "    <tr>\n",
       "      <td>2</td>\n",
       "      <td>10248/72</td>\n",
       "      <td>34.80</td>\n",
       "      <td>5</td>\n",
       "      <td>0.00</td>\n",
       "      <td>Full Price</td>\n",
       "      <td>174.0</td>\n",
       "    </tr>\n",
       "    <tr>\n",
       "      <td>3</td>\n",
       "      <td>10249/14</td>\n",
       "      <td>18.60</td>\n",
       "      <td>9</td>\n",
       "      <td>0.00</td>\n",
       "      <td>Full Price</td>\n",
       "      <td>167.4</td>\n",
       "    </tr>\n",
       "    <tr>\n",
       "      <td>4</td>\n",
       "      <td>10249/51</td>\n",
       "      <td>42.40</td>\n",
       "      <td>40</td>\n",
       "      <td>0.00</td>\n",
       "      <td>Full Price</td>\n",
       "      <td>1696.0</td>\n",
       "    </tr>\n",
       "    <tr>\n",
       "      <td>...</td>\n",
       "      <td>...</td>\n",
       "      <td>...</td>\n",
       "      <td>...</td>\n",
       "      <td>...</td>\n",
       "      <td>...</td>\n",
       "      <td>...</td>\n",
       "    </tr>\n",
       "    <tr>\n",
       "      <td>2150</td>\n",
       "      <td>11077/64</td>\n",
       "      <td>33.25</td>\n",
       "      <td>2</td>\n",
       "      <td>0.03</td>\n",
       "      <td>Discounted</td>\n",
       "      <td>66.5</td>\n",
       "    </tr>\n",
       "    <tr>\n",
       "      <td>2151</td>\n",
       "      <td>11077/66</td>\n",
       "      <td>17.00</td>\n",
       "      <td>1</td>\n",
       "      <td>0.00</td>\n",
       "      <td>Full Price</td>\n",
       "      <td>17.0</td>\n",
       "    </tr>\n",
       "    <tr>\n",
       "      <td>2152</td>\n",
       "      <td>11077/73</td>\n",
       "      <td>15.00</td>\n",
       "      <td>2</td>\n",
       "      <td>0.01</td>\n",
       "      <td>Discounted</td>\n",
       "      <td>30.0</td>\n",
       "    </tr>\n",
       "    <tr>\n",
       "      <td>2153</td>\n",
       "      <td>11077/75</td>\n",
       "      <td>7.75</td>\n",
       "      <td>4</td>\n",
       "      <td>0.00</td>\n",
       "      <td>Full Price</td>\n",
       "      <td>31.0</td>\n",
       "    </tr>\n",
       "    <tr>\n",
       "      <td>2154</td>\n",
       "      <td>11077/77</td>\n",
       "      <td>13.00</td>\n",
       "      <td>2</td>\n",
       "      <td>0.00</td>\n",
       "      <td>Full Price</td>\n",
       "      <td>26.0</td>\n",
       "    </tr>\n",
       "  </tbody>\n",
       "</table>\n",
       "<p>2155 rows × 6 columns</p>\n",
       "</div>"
      ],
      "text/plain": [
       "            Id  UnitPrice  Quantity  Discount  discounted  Total Spent\n",
       "0     10248/11      14.00        12      0.00  Full Price        168.0\n",
       "1     10248/42       9.80        10      0.00  Full Price         98.0\n",
       "2     10248/72      34.80         5      0.00  Full Price        174.0\n",
       "3     10249/14      18.60         9      0.00  Full Price        167.4\n",
       "4     10249/51      42.40        40      0.00  Full Price       1696.0\n",
       "...        ...        ...       ...       ...         ...          ...\n",
       "2150  11077/64      33.25         2      0.03  Discounted         66.5\n",
       "2151  11077/66      17.00         1      0.00  Full Price         17.0\n",
       "2152  11077/73      15.00         2      0.01  Discounted         30.0\n",
       "2153  11077/75       7.75         4      0.00  Full Price         31.0\n",
       "2154  11077/77      13.00         2      0.00  Full Price         26.0\n",
       "\n",
       "[2155 rows x 6 columns]"
      ]
     },
     "execution_count": 33,
     "metadata": {},
     "output_type": "execute_result"
    }
   ],
   "source": [
    "## create total spent\n",
    "h2df[\"Total Spent\"] = h2df['UnitPrice'] * h2df['Quantity']\n",
    "h2df"
   ]
  },
  {
   "cell_type": "code",
   "execution_count": 34,
   "metadata": {},
   "outputs": [
    {
     "data": {
      "text/plain": [
       "<matplotlib.axes._subplots.AxesSubplot at 0x1a174f4550>"
      ]
     },
     "execution_count": 34,
     "metadata": {},
     "output_type": "execute_result"
    },
    {
     "data": {
      "image/png": "[encoded data removed]",
      "text/plain": [
       "<Figure size 432x288 with 1 Axes>"
      ]
     },
     "metadata": {
      "needs_background": "light"
     },
     "output_type": "display_data"
    }
   ],
   "source": [
    "sns.barplot(data=h2df, x='discounted', y='Total Spent', ci=68 )"
   ]
  },
  {
   "cell_type": "markdown",
   "metadata": {},
   "source": [
    "### put data into dict"
   ]
  },
  {
   "cell_type": "code",
   "execution_count": 35,
   "metadata": {},
   "outputs": [
    {
     "data": {
      "text/plain": [
       "{'Full Price': 0        168.0\n",
       " 1         98.0\n",
       " 2        174.0\n",
       " 3        167.4\n",
       " 4       1696.0\n",
       "          ...  \n",
       " 2147      14.0\n",
       " 2148      48.0\n",
       " 2151      17.0\n",
       " 2153      31.0\n",
       " 2154      26.0\n",
       " Name: Total Spent, Length: 1317, dtype: float64, 'Discounted': 6       1484.0\n",
       " 7        252.0\n",
       " 8        100.8\n",
       " 9        234.0\n",
       " 11      2592.0\n",
       "          ...  \n",
       " 2144      36.0\n",
       " 2146      36.0\n",
       " 2149      68.0\n",
       " 2150      66.5\n",
       " 2152      30.0\n",
       " Name: Total Spent, Length: 838, dtype: float64}"
      ]
     },
     "execution_count": 35,
     "metadata": {},
     "output_type": "execute_result"
    }
   ],
   "source": [
    "h2dict = {}\n",
    "for name in h2df['discounted'].unique():\n",
    "    h2dict[name] = h2df.groupby('discounted').get_group(name)['Total Spent']\n",
    "    \n",
    "h2dict"
   ]
  },
  {
   "cell_type": "markdown",
   "metadata": {},
   "source": [
    "## STEP 2: Do we meet the assumptions of the chosen test?"
   ]
  },
  {
   "cell_type": "markdown",
   "metadata": {},
   "source": [
    "Independent t-test (2-sample)\n",
    "\n",
    "- No significant outliers\n",
    "- Normality\n",
    "- Equal Variance"
   ]
  },
  {
   "cell_type": "markdown",
   "metadata": {},
   "source": [
    "### 0. Check for & Remove Outliers"
   ]
  },
  {
   "cell_type": "code",
   "execution_count": 36,
   "metadata": {},
   "outputs": [
    {
     "data": {
      "text/plain": [
       "[Text(0, 0.5, 'Density'),\n",
       " Text(0.5, 1.0, 'Total Spent on Full Price vs Discounted Products')]"
      ]
     },
     "execution_count": 36,
     "metadata": {},
     "output_type": "execute_result"
    },
    {
     "data": {
      "image/png": "[encoded data removed]",
      "text/plain": [
       "<Figure size 576x360 with 1 Axes>"
      ]
     },
     "metadata": {
      "needs_background": "light"
     },
     "output_type": "display_data"
    }
   ],
   "source": [
    "fig,ax=plt.subplots(figsize=(8,5))\n",
    "for name,values in h2dict.items():\n",
    "    sns.distplot(values,label=name, ax=ax)\n",
    "    \n",
    "    \n",
    "ax.legend()\n",
    "ax.set(title='Total Spent on Full Price vs Discounted Products', ylabel='Density')"
   ]
  },
  {
   "cell_type": "code",
   "execution_count": 37,
   "metadata": {},
   "outputs": [
    {
     "name": "stdout",
     "output_type": "stream",
     "text": [
      "Found 19 outliers using Z-score method for Full Price.\n",
      "Found 13 outliers using Z-score method for Discounted.\n"
     ]
    }
   ],
   "source": [
    "for name,values in h2dict.items():\n",
    "    idx_outs = find_outliers_Z(values)\n",
    "    print(f\"Found {idx_outs.sum()} outliers using Z-score method for {name}.\")\n",
    "    h2dict[name] = values[~idx_outs]\n",
    "    "
   ]
  },
  {
   "cell_type": "markdown",
   "metadata": {},
   "source": [
    "### Check result of outlier removal on plot"
   ]
  },
  {
   "cell_type": "code",
   "execution_count": 58,
   "metadata": {},
   "outputs": [
    {
     "data": {
      "text/plain": [
       "[Text(0, 0.5, 'Density'),\n",
       " Text(0.5, 1.0, 'Total Spent on Full Price vs Discounted Products')]"
      ]
     },
     "execution_count": 58,
     "metadata": {},
     "output_type": "execute_result"
    },
    {
     "data": {
      "image/png": "[encoded data removed]",
      "text/plain": [
       "<Figure size 576x360 with 1 Axes>"
      ]
     },
     "metadata": {
      "needs_background": "light"
     },
     "output_type": "display_data"
    }
   ],
   "source": [
    "fig,ax=plt.subplots(figsize=(8,5))\n",
    "for name,values in h2dict.items():\n",
    "    sns.distplot(values,label=name, ax=ax)\n",
    "    \n",
    "    \n",
    "ax.legend()\n",
    "ax.set(title='Total Spent on Full Price vs Discounted Products', ylabel='Density')"
   ]
  },
  {
   "cell_type": "markdown",
   "metadata": {},
   "source": [
    "### 1. Test Assumption of Normality"
   ]
  },
  {
   "cell_type": "code",
   "execution_count": 38,
   "metadata": {},
   "outputs": [],
   "source": [
    "import scipy.stats as stats"
   ]
  },
  {
   "cell_type": "code",
   "execution_count": 39,
   "metadata": {},
   "outputs": [
    {
     "name": "stdout",
     "output_type": "stream",
     "text": [
      "Group Full Price Normaltest p-value=0.0\n",
      "\t-The data is NOT normal.\n",
      "Group Discounted Normaltest p-value=0.0\n",
      "\t-The data is NOT normal.\n"
     ]
    }
   ],
   "source": [
    "for key,values in h2dict.items():\n",
    "    stat,p = stats.normaltest(values)\n",
    "    print(f\"Group {key} Normaltest p-value={round(p,4)}\")\n",
    "    sig = 'is NOT' if p<.05 else 'IS'\n",
    "\n",
    "    print(f\"\\t-The data {sig} normal.\")"
   ]
  },
  {
   "cell_type": "markdown",
   "metadata": {},
   "source": [
    "### 1B. We don't have normal data:"
   ]
  },
  {
   "cell_type": "code",
   "execution_count": 40,
   "metadata": {},
   "outputs": [
    {
     "data": {
      "text/plain": [
       "(1298, 825)"
      ]
     },
     "execution_count": 40,
     "metadata": {},
     "output_type": "execute_result"
    }
   ],
   "source": [
    "len(h2dict['Full Price']), len(h2dict['Discounted'])"
   ]
  },
  {
   "cell_type": "markdown",
   "metadata": {},
   "source": [
    "But group sizes (n) are bigger than required 15 for each group so we can safely ignore normality assumption. <br>\n",
    "So we move on to equal variance assumption."
   ]
  },
  {
   "cell_type": "markdown",
   "metadata": {},
   "source": [
    "### 2. Test for Equal Variance"
   ]
  },
  {
   "cell_type": "code",
   "execution_count": 41,
   "metadata": {
    "scrolled": true
   },
   "outputs": [],
   "source": [
    "# put data into lists for levene's test args\n",
    "h2data = []\n",
    "for key,vals in h2dict.items():\n",
    "    h2data.append(vals)"
   ]
  },
  {
   "cell_type": "code",
   "execution_count": 42,
   "metadata": {},
   "outputs": [
    {
     "data": {
      "text/plain": [
       "6       1484.0\n",
       "7        252.0\n",
       "8        100.8\n",
       "9        234.0\n",
       "11      2592.0\n",
       "         ...  \n",
       "2144      36.0\n",
       "2146      36.0\n",
       "2149      68.0\n",
       "2150      66.5\n",
       "2152      30.0\n",
       "Name: Total Spent, Length: 825, dtype: float64"
      ]
     },
     "execution_count": 42,
     "metadata": {},
     "output_type": "execute_result"
    }
   ],
   "source": [
    "h2data[1]"
   ]
  },
  {
   "cell_type": "code",
   "execution_count": 44,
   "metadata": {},
   "outputs": [
    {
     "name": "stdout",
     "output_type": "stream",
     "text": [
      "Levene's Test for Equal Variance p-value=0.0\n",
      "\t-The groups do NOT have equal variance.\n"
     ]
    }
   ],
   "source": [
    "stat,p = stats.levene(*h2data)\n",
    "print(f\"Levene's Test for Equal Variance p-value={round(p,4)}\")\n",
    "sig = 'do NOT' if p<.05 else 'DO'\n",
    "\n",
    "print(f\"\\t-The groups {sig} have equal variance.\")"
   ]
  },
  {
   "cell_type": "markdown",
   "metadata": {},
   "source": [
    "### Failed the assumption of equal variance:\n",
    "\n",
    "Use a Welch's T-Test. \n",
    " - for scipy, add equal_var=False to ttest_ind"
   ]
  },
  {
   "cell_type": "markdown",
   "metadata": {},
   "source": [
    "## STEP 3: Interpret Result & Post-Hoc Tests"
   ]
  },
  {
   "cell_type": "markdown",
   "metadata": {},
   "source": [
    "### Perform hypothesis test from summary table above to get your p-value."
   ]
  },
  {
   "cell_type": "markdown",
   "metadata": {},
   "source": [
    "- If p value is < $\\alpha$:\n",
    "\n",
    "    - Reject the null hypothesis.\n",
    "    - Calculate effect size (e.g. Cohen's $d$)\n",
    "- If p<.05 AND you have multiple groups (i.e. ANOVA)\n",
    "\n",
    "    - Must run a pairwise Tukey's test to know which groups were significantly different.\n",
    "    - Tukey pairwise comparison test\n",
    "    - statsmodels.stats.multicomp.pairwise_tukeyhsd\n",
    "- Report statistical power (optional)"
   ]
  },
  {
   "cell_type": "code",
   "execution_count": 45,
   "metadata": {},
   "outputs": [
    {
     "name": "stdout",
     "output_type": "stream",
     "text": [
      "Welch's t-test p value=0.0\n",
      "\t- Null Hypothesis is rejected.\n"
     ]
    }
   ],
   "source": [
    "stat,h2p = stats.ttest_ind(h2dict['Full Price'], h2dict['Discounted'], equal_var=False)\n",
    "print(f\"Welch's t-test p value={round(h2p,4)}\")\n",
    "\n",
    "sig = 'is rejected' if h2p<.05 else 'is accepted'\n",
    "\n",
    "print(f\"\\t- Null Hypothesis {sig}.\")"
   ]
  },
  {
   "cell_type": "markdown",
   "metadata": {},
   "source": [
    "### Calculate effect size (e.g. Cohen's  𝑑 )"
   ]
  },
  {
   "cell_type": "code",
   "execution_count": 46,
   "metadata": {},
   "outputs": [
    {
     "data": {
      "text/plain": [
       "-0.22821293413002144"
      ]
     },
     "execution_count": 46,
     "metadata": {},
     "output_type": "execute_result"
    }
   ],
   "source": [
    "h2effectsize = Cohen_d(h2dict['Full Price'],h2dict['Discounted'])\n",
    "h2effectsize"
   ]
  },
  {
   "cell_type": "markdown",
   "metadata": {},
   "source": [
    "# --Question"
   ]
  },
  {
   "cell_type": "markdown",
   "metadata": {},
   "source": [
    "0.2 effect size is small. What does this tell us?"
   ]
  },
  {
   "cell_type": "markdown",
   "metadata": {},
   "source": [
    "### Report statistical power (optional)"
   ]
  },
  {
   "cell_type": "markdown",
   "metadata": {},
   "source": [
    "statsmodels.stats.power:\n",
    "TTestIndPower , TTestPower"
   ]
  },
  {
   "cell_type": "code",
   "execution_count": 47,
   "metadata": {},
   "outputs": [
    {
     "data": {
      "text/plain": [
       "2123"
      ]
     },
     "execution_count": 47,
     "metadata": {},
     "output_type": "execute_result"
    }
   ],
   "source": [
    "len(h2dict['Full Price']+h2dict['Discounted'])"
   ]
  },
  {
   "cell_type": "code",
   "execution_count": 48,
   "metadata": {},
   "outputs": [
    {
     "data": {
      "text/plain": [
       "0.9946532659778071"
      ]
     },
     "execution_count": 48,
     "metadata": {},
     "output_type": "execute_result"
    }
   ],
   "source": [
    "# show the power to see how well we can reject null.\n",
    "power_analysis.solve_power(effect_size=h2effectsize, nobs1=2123, alpha=h2p)"
   ]
  },
  {
   "cell_type": "code",
   "execution_count": 49,
   "metadata": {},
   "outputs": [],
   "source": [
    "# power is .99 so yeah we have a solid bet of rejecting null hypothesis and not getting any type 1 errors."
   ]
  },
  {
   "cell_type": "markdown",
   "metadata": {},
   "source": [
    "## What levels of discount?"
   ]
  },
  {
   "cell_type": "markdown",
   "metadata": {},
   "source": [
    "### If p<.05 AND you have multiple groups (i.e. ANOVA)\n",
    "\n",
    "- Must run a pairwise Tukey's test to know which groups were significantly different.\n",
    "- Tukey pairwise comparison test\n",
    "- statsmodels.stats.multicomp.pairwise_tukeyhsd"
   ]
  },
  {
   "cell_type": "markdown",
   "metadata": {},
   "source": [
    "> Does discount amount have a statistically significant effect on the quantity of a product in an order? If so, at what level(s) of discount? "
   ]
  },
  {
   "cell_type": "markdown",
   "metadata": {},
   "source": [
    "### Make dict into dataframes for tukeys"
   ]
  },
  {
   "cell_type": "code",
   "execution_count": 50,
   "metadata": {},
   "outputs": [
    {
     "data": {
      "text/plain": [
       "0        168.0\n",
       "1         98.0\n",
       "2        174.0\n",
       "3        167.4\n",
       "4       1696.0\n",
       "         ...  \n",
       "2147      14.0\n",
       "2148      48.0\n",
       "2151      17.0\n",
       "2153      31.0\n",
       "2154      26.0\n",
       "Name: Total Spent, Length: 1298, dtype: float64"
      ]
     },
     "execution_count": 50,
     "metadata": {},
     "output_type": "execute_result"
    }
   ],
   "source": [
    "h2dict['Full Price']"
   ]
  },
  {
   "cell_type": "code",
   "execution_count": 51,
   "metadata": {},
   "outputs": [
    {
     "data": {
      "text/html": [
       "<div>\n",
       "<style scoped>\n",
       "    .dataframe tbody tr th:only-of-type {\n",
       "        vertical-align: middle;\n",
       "    }\n",
       "\n",
       "    .dataframe tbody tr th {\n",
       "        vertical-align: top;\n",
       "    }\n",
       "\n",
       "    .dataframe thead th {\n",
       "        text-align: right;\n",
       "    }\n",
       "</style>\n",
       "<table border=\"1\" class=\"dataframe\">\n",
       "  <thead>\n",
       "    <tr style=\"text-align: right;\">\n",
       "      <th></th>\n",
       "      <th>Total Spent</th>\n",
       "      <th>Group</th>\n",
       "    </tr>\n",
       "  </thead>\n",
       "  <tbody>\n",
       "    <tr>\n",
       "      <td>0</td>\n",
       "      <td>168.0</td>\n",
       "      <td>Full Price</td>\n",
       "    </tr>\n",
       "    <tr>\n",
       "      <td>1</td>\n",
       "      <td>98.0</td>\n",
       "      <td>Full Price</td>\n",
       "    </tr>\n",
       "    <tr>\n",
       "      <td>2</td>\n",
       "      <td>174.0</td>\n",
       "      <td>Full Price</td>\n",
       "    </tr>\n",
       "    <tr>\n",
       "      <td>3</td>\n",
       "      <td>167.4</td>\n",
       "      <td>Full Price</td>\n",
       "    </tr>\n",
       "    <tr>\n",
       "      <td>4</td>\n",
       "      <td>1696.0</td>\n",
       "      <td>Full Price</td>\n",
       "    </tr>\n",
       "    <tr>\n",
       "      <td>...</td>\n",
       "      <td>...</td>\n",
       "      <td>...</td>\n",
       "    </tr>\n",
       "    <tr>\n",
       "      <td>2144</td>\n",
       "      <td>36.0</td>\n",
       "      <td>Discounted</td>\n",
       "    </tr>\n",
       "    <tr>\n",
       "      <td>2146</td>\n",
       "      <td>36.0</td>\n",
       "      <td>Discounted</td>\n",
       "    </tr>\n",
       "    <tr>\n",
       "      <td>2149</td>\n",
       "      <td>68.0</td>\n",
       "      <td>Discounted</td>\n",
       "    </tr>\n",
       "    <tr>\n",
       "      <td>2150</td>\n",
       "      <td>66.5</td>\n",
       "      <td>Discounted</td>\n",
       "    </tr>\n",
       "    <tr>\n",
       "      <td>2152</td>\n",
       "      <td>30.0</td>\n",
       "      <td>Discounted</td>\n",
       "    </tr>\n",
       "  </tbody>\n",
       "</table>\n",
       "<p>2123 rows × 2 columns</p>\n",
       "</div>"
      ],
      "text/plain": [
       "      Total Spent       Group\n",
       "0           168.0  Full Price\n",
       "1            98.0  Full Price\n",
       "2           174.0  Full Price\n",
       "3           167.4  Full Price\n",
       "4          1696.0  Full Price\n",
       "...           ...         ...\n",
       "2144         36.0  Discounted\n",
       "2146         36.0  Discounted\n",
       "2149         68.0  Discounted\n",
       "2150         66.5  Discounted\n",
       "2152         30.0  Discounted\n",
       "\n",
       "[2123 rows x 2 columns]"
      ]
     },
     "execution_count": 51,
     "metadata": {},
     "output_type": "execute_result"
    }
   ],
   "source": [
    "h2df_tukey = prepare_for_tukeys(h2dict)\n",
    "h2df_tukey"
   ]
  },
  {
   "cell_type": "code",
   "execution_count": 52,
   "metadata": {},
   "outputs": [
    {
     "ename": "TypeError",
     "evalue": "zip argument #4 must support iteration",
     "output_type": "error",
     "traceback": [
      "\u001b[0;31m---------------------------------------------------------------------------\u001b[0m",
      "\u001b[0;31mTypeError\u001b[0m                                 Traceback (most recent call last)",
      "\u001b[0;32m<ipython-input-52-442ba0daaa9d>\u001b[0m in \u001b[0;36m<module>\u001b[0;34m\u001b[0m\n\u001b[0;32m----> 1\u001b[0;31m \u001b[0mh2tukeys\u001b[0m \u001b[0;34m=\u001b[0m \u001b[0mpairwise_tukeyhsd\u001b[0m\u001b[0;34m(\u001b[0m\u001b[0mh2df_tukey\u001b[0m\u001b[0;34m[\u001b[0m\u001b[0;34m'Total Spent'\u001b[0m\u001b[0;34m]\u001b[0m\u001b[0;34m,\u001b[0m\u001b[0mh2df_tukey\u001b[0m\u001b[0;34m[\u001b[0m\u001b[0;34m'Group'\u001b[0m\u001b[0;34m]\u001b[0m\u001b[0;34m)\u001b[0m\u001b[0;34m\u001b[0m\u001b[0;34m\u001b[0m\u001b[0m\n\u001b[0m\u001b[1;32m      2\u001b[0m \u001b[0mh2tukeys\u001b[0m\u001b[0;34m.\u001b[0m\u001b[0msummary\u001b[0m\u001b[0;34m(\u001b[0m\u001b[0;34m)\u001b[0m\u001b[0;34m\u001b[0m\u001b[0;34m\u001b[0m\u001b[0m\n",
      "\u001b[0;32m//anaconda3/envs/learn-env/lib/python3.6/site-packages/statsmodels/stats/multicomp.py\u001b[0m in \u001b[0;36mpairwise_tukeyhsd\u001b[0;34m(endog, groups, alpha)\u001b[0m\n\u001b[1;32m     42\u001b[0m     \"\"\"\n\u001b[1;32m     43\u001b[0m \u001b[0;34m\u001b[0m\u001b[0m\n\u001b[0;32m---> 44\u001b[0;31m     \u001b[0;32mreturn\u001b[0m \u001b[0mMultiComparison\u001b[0m\u001b[0;34m(\u001b[0m\u001b[0mendog\u001b[0m\u001b[0;34m,\u001b[0m \u001b[0mgroups\u001b[0m\u001b[0;34m)\u001b[0m\u001b[0;34m.\u001b[0m\u001b[0mtukeyhsd\u001b[0m\u001b[0;34m(\u001b[0m\u001b[0malpha\u001b[0m\u001b[0;34m=\u001b[0m\u001b[0malpha\u001b[0m\u001b[0;34m)\u001b[0m\u001b[0;34m\u001b[0m\u001b[0;34m\u001b[0m\u001b[0m\n\u001b[0m",
      "\u001b[0;32m//anaconda3/envs/learn-env/lib/python3.6/site-packages/statsmodels/sandbox/stats/multicomp.py\u001b[0m in \u001b[0;36mtukeyhsd\u001b[0;34m(self, alpha)\u001b[0m\n\u001b[1;32m   1011\u001b[0m                                \u001b[0mnp\u001b[0m\u001b[0;34m.\u001b[0m\u001b[0mround\u001b[0m\u001b[0;34m(\u001b[0m\u001b[0mres\u001b[0m\u001b[0;34m[\u001b[0m\u001b[0;36m4\u001b[0m\u001b[0;34m]\u001b[0m\u001b[0;34m[\u001b[0m\u001b[0;34m:\u001b[0m\u001b[0;34m,\u001b[0m \u001b[0;36m0\u001b[0m\u001b[0;34m]\u001b[0m\u001b[0;34m,\u001b[0m \u001b[0;36m4\u001b[0m\u001b[0;34m)\u001b[0m\u001b[0;34m,\u001b[0m\u001b[0;34m\u001b[0m\u001b[0;34m\u001b[0m\u001b[0m\n\u001b[1;32m   1012\u001b[0m                                \u001b[0mnp\u001b[0m\u001b[0;34m.\u001b[0m\u001b[0mround\u001b[0m\u001b[0;34m(\u001b[0m\u001b[0mres\u001b[0m\u001b[0;34m[\u001b[0m\u001b[0;36m4\u001b[0m\u001b[0;34m]\u001b[0m\u001b[0;34m[\u001b[0m\u001b[0;34m:\u001b[0m\u001b[0;34m,\u001b[0m \u001b[0;36m1\u001b[0m\u001b[0;34m]\u001b[0m\u001b[0;34m,\u001b[0m \u001b[0;36m4\u001b[0m\u001b[0;34m)\u001b[0m\u001b[0;34m,\u001b[0m\u001b[0;34m\u001b[0m\u001b[0;34m\u001b[0m\u001b[0m\n\u001b[0;32m-> 1013\u001b[0;31m                                res[1]),\n\u001b[0m\u001b[1;32m   1014\u001b[0m                           dtype=[('group1', object),\n\u001b[1;32m   1015\u001b[0m                                  \u001b[0;34m(\u001b[0m\u001b[0;34m'group2'\u001b[0m\u001b[0;34m,\u001b[0m \u001b[0mobject\u001b[0m\u001b[0;34m)\u001b[0m\u001b[0;34m,\u001b[0m\u001b[0;34m\u001b[0m\u001b[0;34m\u001b[0m\u001b[0m\n",
      "\u001b[0;32m//anaconda3/envs/learn-env/lib/python3.6/site-packages/statsmodels/compat/python.py\u001b[0m in \u001b[0;36mlzip\u001b[0;34m(*args, **kwargs)\u001b[0m\n\u001b[1;32m     60\u001b[0m \u001b[0;34m\u001b[0m\u001b[0m\n\u001b[1;32m     61\u001b[0m     \u001b[0;32mdef\u001b[0m \u001b[0mlzip\u001b[0m\u001b[0;34m(\u001b[0m\u001b[0;34m*\u001b[0m\u001b[0margs\u001b[0m\u001b[0;34m,\u001b[0m \u001b[0;34m**\u001b[0m\u001b[0mkwargs\u001b[0m\u001b[0;34m)\u001b[0m\u001b[0;34m:\u001b[0m\u001b[0;34m\u001b[0m\u001b[0;34m\u001b[0m\u001b[0m\n\u001b[0;32m---> 62\u001b[0;31m         \u001b[0;32mreturn\u001b[0m \u001b[0mlist\u001b[0m\u001b[0;34m(\u001b[0m\u001b[0mzip\u001b[0m\u001b[0;34m(\u001b[0m\u001b[0;34m*\u001b[0m\u001b[0margs\u001b[0m\u001b[0;34m,\u001b[0m \u001b[0;34m**\u001b[0m\u001b[0mkwargs\u001b[0m\u001b[0;34m)\u001b[0m\u001b[0;34m)\u001b[0m\u001b[0;34m\u001b[0m\u001b[0;34m\u001b[0m\u001b[0m\n\u001b[0m\u001b[1;32m     63\u001b[0m \u001b[0;34m\u001b[0m\u001b[0m\n\u001b[1;32m     64\u001b[0m     \u001b[0;32mdef\u001b[0m \u001b[0mlmap\u001b[0m\u001b[0;34m(\u001b[0m\u001b[0;34m*\u001b[0m\u001b[0margs\u001b[0m\u001b[0;34m,\u001b[0m \u001b[0;34m**\u001b[0m\u001b[0mkwargs\u001b[0m\u001b[0;34m)\u001b[0m\u001b[0;34m:\u001b[0m\u001b[0;34m\u001b[0m\u001b[0;34m\u001b[0m\u001b[0m\n",
      "\u001b[0;31mTypeError\u001b[0m: zip argument #4 must support iteration"
     ]
    }
   ],
   "source": [
    "h2tukeys = pairwise_tukeyhsd(h2df_tukey['Total Spent'],h2df_tukey['Group'])\n",
    "h2tukeys.summary()"
   ]
  },
  {
   "cell_type": "code",
   "execution_count": null,
   "metadata": {},
   "outputs": [],
   "source": []
  },
  {
   "cell_type": "markdown",
   "metadata": {},
   "source": [
    "# Hypothesis 3"
   ]
  },
  {
   "cell_type": "markdown",
   "metadata": {},
   "source": [
    "## Question"
   ]
  },
  {
   "cell_type": "markdown",
   "metadata": {},
   "source": [
    "> Does supplier region have a statistically significant effect on the total sales of the supplier? If so, which region(s)?"
   ]
  },
  {
   "cell_type": "markdown",
   "metadata": {},
   "source": [
    "## Null and Alternative Hypothesis"
   ]
  },
  {
   "cell_type": "markdown",
   "metadata": {},
   "source": [
    "- $H_0$: Supplier region does not have a significant effect total supplier sales. \n",
    "\n",
    "- $H_1$: Supplier region does have a significant effect on total supplier sales."
   ]
  },
  {
   "cell_type": "markdown",
   "metadata": {},
   "source": [
    "## STEP 1: Determine the category/type of test based on your data"
   ]
  },
  {
   "cell_type": "markdown",
   "metadata": {},
   "source": [
    "Type of data: Numerical <br>\n",
    "    How many groups compared: There are 11 different regions/groups to compare.\n",
    "    - So we'll use ANOVA & Tukey tests since there are more than two groups. "
   ]
  },
  {
   "cell_type": "markdown",
   "metadata": {},
   "source": [
    "### Put data in df"
   ]
  },
  {
   "cell_type": "code",
   "execution_count": 118,
   "metadata": {},
   "outputs": [
    {
     "data": {
      "text/plain": [
       "['Id',\n",
       " 'ProductName',\n",
       " 'SupplierId',\n",
       " 'CategoryId',\n",
       " 'QuantityPerUnit',\n",
       " 'UnitPrice',\n",
       " 'UnitsInStock',\n",
       " 'UnitsOnOrder',\n",
       " 'ReorderLevel',\n",
       " 'Discontinued']"
      ]
     },
     "execution_count": 118,
     "metadata": {},
     "output_type": "execute_result"
    }
   ],
   "source": [
    "cur.execute(\"\"\"SELECT *\n",
    "                FROM Product\n",
    "                \"\"\")\n",
    "col_names=[x[0] for x in cur.description]\n",
    "col_names"
   ]
  },
  {
   "cell_type": "code",
   "execution_count": 124,
   "metadata": {},
   "outputs": [
    {
     "data": {
      "text/plain": [
       "['Id', 'OrderId', 'ProductId', 'UnitPrice', 'Quantity', 'Discount']"
      ]
     },
     "execution_count": 124,
     "metadata": {},
     "output_type": "execute_result"
    }
   ],
   "source": [
    "cur.execute(\"\"\"SELECT *\n",
    "                FROM OrderDetail\n",
    "                \"\"\")\n",
    "col_names=[x[0] for x in cur.description]\n",
    "col_names"
   ]
  },
  {
   "cell_type": "code",
   "execution_count": 131,
   "metadata": {},
   "outputs": [
    {
     "data": {
      "text/plain": [
       "['Id',\n",
       " 'CompanyName',\n",
       " 'ContactName',\n",
       " 'ContactTitle',\n",
       " 'Address',\n",
       " 'City',\n",
       " 'Region',\n",
       " 'PostalCode',\n",
       " 'Country',\n",
       " 'Phone',\n",
       " 'Fax',\n",
       " 'HomePage']"
      ]
     },
     "execution_count": 131,
     "metadata": {},
     "output_type": "execute_result"
    }
   ],
   "source": [
    "cur.execute(\"\"\"SELECT *\n",
    "                FROM Supplier\n",
    "                \"\"\")\n",
    "col_names=[x[0] for x in cur.description]\n",
    "col_names"
   ]
  },
  {
   "cell_type": "code",
   "execution_count": 150,
   "metadata": {},
   "outputs": [
    {
     "data": {
      "text/plain": [
       "['Id', 'UnitPrice', 'Quantity', 'Region']"
      ]
     },
     "execution_count": 150,
     "metadata": {},
     "output_type": "execute_result"
    }
   ],
   "source": [
    "cur.execute(\"\"\"SELECT od.ID, od.UnitPrice, od.Quantity, s.Region\n",
    "                FROM OrderDetail od\n",
    "                JOIN Product p ON od.ProductID = p.ID\n",
    "                JOIN Supplier s ON p.SupplierID = s.ID\n",
    "                \n",
    "            \"\"\")\n",
    "col_names=[x[0] for x in cur.description]\n",
    "col_names"
   ]
  },
  {
   "cell_type": "code",
   "execution_count": 151,
   "metadata": {
    "scrolled": true
   },
   "outputs": [
    {
     "data": {
      "text/html": [
       "<div>\n",
       "<style scoped>\n",
       "    .dataframe tbody tr th:only-of-type {\n",
       "        vertical-align: middle;\n",
       "    }\n",
       "\n",
       "    .dataframe tbody tr th {\n",
       "        vertical-align: top;\n",
       "    }\n",
       "\n",
       "    .dataframe thead th {\n",
       "        text-align: right;\n",
       "    }\n",
       "</style>\n",
       "<table border=\"1\" class=\"dataframe\">\n",
       "  <thead>\n",
       "    <tr style=\"text-align: right;\">\n",
       "      <th></th>\n",
       "      <th>Id</th>\n",
       "      <th>UnitPrice</th>\n",
       "      <th>Quantity</th>\n",
       "      <th>Region</th>\n",
       "    </tr>\n",
       "  </thead>\n",
       "  <tbody>\n",
       "    <tr>\n",
       "      <td>0</td>\n",
       "      <td>10248/11</td>\n",
       "      <td>14.00</td>\n",
       "      <td>12</td>\n",
       "      <td>Southern Europe</td>\n",
       "    </tr>\n",
       "    <tr>\n",
       "      <td>1</td>\n",
       "      <td>10248/42</td>\n",
       "      <td>9.80</td>\n",
       "      <td>10</td>\n",
       "      <td>South-East Asia</td>\n",
       "    </tr>\n",
       "    <tr>\n",
       "      <td>2</td>\n",
       "      <td>10248/72</td>\n",
       "      <td>34.80</td>\n",
       "      <td>5</td>\n",
       "      <td>Southern Europe</td>\n",
       "    </tr>\n",
       "    <tr>\n",
       "      <td>3</td>\n",
       "      <td>10249/14</td>\n",
       "      <td>18.60</td>\n",
       "      <td>9</td>\n",
       "      <td>Eastern Asia</td>\n",
       "    </tr>\n",
       "    <tr>\n",
       "      <td>4</td>\n",
       "      <td>10249/51</td>\n",
       "      <td>42.40</td>\n",
       "      <td>40</td>\n",
       "      <td>NSW</td>\n",
       "    </tr>\n",
       "    <tr>\n",
       "      <td>...</td>\n",
       "      <td>...</td>\n",
       "      <td>...</td>\n",
       "      <td>...</td>\n",
       "      <td>...</td>\n",
       "    </tr>\n",
       "    <tr>\n",
       "      <td>2150</td>\n",
       "      <td>11077/64</td>\n",
       "      <td>33.25</td>\n",
       "      <td>2</td>\n",
       "      <td>Western Europe</td>\n",
       "    </tr>\n",
       "    <tr>\n",
       "      <td>2151</td>\n",
       "      <td>11077/66</td>\n",
       "      <td>17.00</td>\n",
       "      <td>1</td>\n",
       "      <td>North America</td>\n",
       "    </tr>\n",
       "    <tr>\n",
       "      <td>2152</td>\n",
       "      <td>11077/73</td>\n",
       "      <td>15.00</td>\n",
       "      <td>2</td>\n",
       "      <td>Northern Europe</td>\n",
       "    </tr>\n",
       "    <tr>\n",
       "      <td>2153</td>\n",
       "      <td>11077/75</td>\n",
       "      <td>7.75</td>\n",
       "      <td>4</td>\n",
       "      <td>Western Europe</td>\n",
       "    </tr>\n",
       "    <tr>\n",
       "      <td>2154</td>\n",
       "      <td>11077/77</td>\n",
       "      <td>13.00</td>\n",
       "      <td>2</td>\n",
       "      <td>Western Europe</td>\n",
       "    </tr>\n",
       "  </tbody>\n",
       "</table>\n",
       "<p>2155 rows × 4 columns</p>\n",
       "</div>"
      ],
      "text/plain": [
       "            Id  UnitPrice  Quantity           Region\n",
       "0     10248/11      14.00        12  Southern Europe\n",
       "1     10248/42       9.80        10  South-East Asia\n",
       "2     10248/72      34.80         5  Southern Europe\n",
       "3     10249/14      18.60         9     Eastern Asia\n",
       "4     10249/51      42.40        40              NSW\n",
       "...        ...        ...       ...              ...\n",
       "2150  11077/64      33.25         2   Western Europe\n",
       "2151  11077/66      17.00         1    North America\n",
       "2152  11077/73      15.00         2  Northern Europe\n",
       "2153  11077/75       7.75         4   Western Europe\n",
       "2154  11077/77      13.00         2   Western Europe\n",
       "\n",
       "[2155 rows x 4 columns]"
      ]
     },
     "execution_count": 151,
     "metadata": {},
     "output_type": "execute_result"
    }
   ],
   "source": [
    "h3df = pd.DataFrame(cur.fetchall(), columns=col_names)\n",
    "h3df"
   ]
  },
  {
   "cell_type": "code",
   "execution_count": 152,
   "metadata": {},
   "outputs": [
    {
     "data": {
      "text/plain": [
       "array(['Southern Europe', 'South-East Asia', 'Eastern Asia', 'NSW',\n",
       "       'North America', 'Northern Europe', 'British Isles', 'Scandinavia',\n",
       "       'Western Europe', 'South America', 'Victoria'], dtype=object)"
      ]
     },
     "execution_count": 152,
     "metadata": {},
     "output_type": "execute_result"
    }
   ],
   "source": [
    "h3df['Region'].unique()"
   ]
  },
  {
   "cell_type": "code",
   "execution_count": 153,
   "metadata": {},
   "outputs": [
    {
     "data": {
      "text/html": [
       "<div>\n",
       "<style scoped>\n",
       "    .dataframe tbody tr th:only-of-type {\n",
       "        vertical-align: middle;\n",
       "    }\n",
       "\n",
       "    .dataframe tbody tr th {\n",
       "        vertical-align: top;\n",
       "    }\n",
       "\n",
       "    .dataframe thead th {\n",
       "        text-align: right;\n",
       "    }\n",
       "</style>\n",
       "<table border=\"1\" class=\"dataframe\">\n",
       "  <thead>\n",
       "    <tr style=\"text-align: right;\">\n",
       "      <th></th>\n",
       "      <th>Id</th>\n",
       "      <th>UnitPrice</th>\n",
       "      <th>Quantity</th>\n",
       "      <th>Region</th>\n",
       "      <th>Total Spent</th>\n",
       "    </tr>\n",
       "  </thead>\n",
       "  <tbody>\n",
       "    <tr>\n",
       "      <td>0</td>\n",
       "      <td>10248/11</td>\n",
       "      <td>14.00</td>\n",
       "      <td>12</td>\n",
       "      <td>Southern Europe</td>\n",
       "      <td>168.0</td>\n",
       "    </tr>\n",
       "    <tr>\n",
       "      <td>1</td>\n",
       "      <td>10248/42</td>\n",
       "      <td>9.80</td>\n",
       "      <td>10</td>\n",
       "      <td>South-East Asia</td>\n",
       "      <td>98.0</td>\n",
       "    </tr>\n",
       "    <tr>\n",
       "      <td>2</td>\n",
       "      <td>10248/72</td>\n",
       "      <td>34.80</td>\n",
       "      <td>5</td>\n",
       "      <td>Southern Europe</td>\n",
       "      <td>174.0</td>\n",
       "    </tr>\n",
       "    <tr>\n",
       "      <td>3</td>\n",
       "      <td>10249/14</td>\n",
       "      <td>18.60</td>\n",
       "      <td>9</td>\n",
       "      <td>Eastern Asia</td>\n",
       "      <td>167.4</td>\n",
       "    </tr>\n",
       "    <tr>\n",
       "      <td>4</td>\n",
       "      <td>10249/51</td>\n",
       "      <td>42.40</td>\n",
       "      <td>40</td>\n",
       "      <td>NSW</td>\n",
       "      <td>1696.0</td>\n",
       "    </tr>\n",
       "    <tr>\n",
       "      <td>...</td>\n",
       "      <td>...</td>\n",
       "      <td>...</td>\n",
       "      <td>...</td>\n",
       "      <td>...</td>\n",
       "      <td>...</td>\n",
       "    </tr>\n",
       "    <tr>\n",
       "      <td>2150</td>\n",
       "      <td>11077/64</td>\n",
       "      <td>33.25</td>\n",
       "      <td>2</td>\n",
       "      <td>Western Europe</td>\n",
       "      <td>66.5</td>\n",
       "    </tr>\n",
       "    <tr>\n",
       "      <td>2151</td>\n",
       "      <td>11077/66</td>\n",
       "      <td>17.00</td>\n",
       "      <td>1</td>\n",
       "      <td>North America</td>\n",
       "      <td>17.0</td>\n",
       "    </tr>\n",
       "    <tr>\n",
       "      <td>2152</td>\n",
       "      <td>11077/73</td>\n",
       "      <td>15.00</td>\n",
       "      <td>2</td>\n",
       "      <td>Northern Europe</td>\n",
       "      <td>30.0</td>\n",
       "    </tr>\n",
       "    <tr>\n",
       "      <td>2153</td>\n",
       "      <td>11077/75</td>\n",
       "      <td>7.75</td>\n",
       "      <td>4</td>\n",
       "      <td>Western Europe</td>\n",
       "      <td>31.0</td>\n",
       "    </tr>\n",
       "    <tr>\n",
       "      <td>2154</td>\n",
       "      <td>11077/77</td>\n",
       "      <td>13.00</td>\n",
       "      <td>2</td>\n",
       "      <td>Western Europe</td>\n",
       "      <td>26.0</td>\n",
       "    </tr>\n",
       "  </tbody>\n",
       "</table>\n",
       "<p>2155 rows × 5 columns</p>\n",
       "</div>"
      ],
      "text/plain": [
       "            Id  UnitPrice  Quantity           Region  Total Spent\n",
       "0     10248/11      14.00        12  Southern Europe        168.0\n",
       "1     10248/42       9.80        10  South-East Asia         98.0\n",
       "2     10248/72      34.80         5  Southern Europe        174.0\n",
       "3     10249/14      18.60         9     Eastern Asia        167.4\n",
       "4     10249/51      42.40        40              NSW       1696.0\n",
       "...        ...        ...       ...              ...          ...\n",
       "2150  11077/64      33.25         2   Western Europe         66.5\n",
       "2151  11077/66      17.00         1    North America         17.0\n",
       "2152  11077/73      15.00         2  Northern Europe         30.0\n",
       "2153  11077/75       7.75         4   Western Europe         31.0\n",
       "2154  11077/77      13.00         2   Western Europe         26.0\n",
       "\n",
       "[2155 rows x 5 columns]"
      ]
     },
     "execution_count": 153,
     "metadata": {},
     "output_type": "execute_result"
    }
   ],
   "source": [
    "## create total spent\n",
    "h3df[\"Total Spent\"] = h3df['UnitPrice'] * h3df['Quantity']\n",
    "h3df"
   ]
  },
  {
   "cell_type": "markdown",
   "metadata": {},
   "source": [
    "# Question - need to make region names legible"
   ]
  },
  {
   "cell_type": "code",
   "execution_count": 154,
   "metadata": {},
   "outputs": [
    {
     "data": {
      "text/plain": [
       "<matplotlib.axes._subplots.AxesSubplot at 0x1a182e8208>"
      ]
     },
     "execution_count": 154,
     "metadata": {},
     "output_type": "execute_result"
    },
    {
     "data": {
      "image/png": "[encoded data removed]",
      "text/plain": [
       "<Figure size 432x288 with 1 Axes>"
      ]
     },
     "metadata": {
      "needs_background": "light"
     },
     "output_type": "display_data"
    }
   ],
   "source": [
    "sns.barplot(data=h3df, x='Region', y='Total Spent', ci=68)"
   ]
  },
  {
   "cell_type": "markdown",
   "metadata": {},
   "source": [
    "### put data into dict"
   ]
  },
  {
   "cell_type": "code",
   "execution_count": 155,
   "metadata": {},
   "outputs": [
    {
     "data": {
      "text/plain": [
       "{'Southern Europe': 0       168.0\n",
       " 2       174.0\n",
       " 9       234.0\n",
       " 14      200.0\n",
       " 31      153.6\n",
       "         ...  \n",
       " 2077    390.0\n",
       " 2114    250.0\n",
       " 2121    210.0\n",
       " 2137     76.0\n",
       " 2143     32.0\n",
       " Name: Total Spent, Length: 229, dtype: float64,\n",
       " 'South-East Asia': 1         98.00\n",
       " 60       920.00\n",
       " 78       248.00\n",
       " 96       325.50\n",
       " 116      372.00\n",
       "          ...   \n",
       " 2032     233.40\n",
       " 2036     420.00\n",
       " 2051     291.75\n",
       " 2067    1380.00\n",
       " 2108    1656.00\n",
       " Name: Total Spent, Length: 82, dtype: float64,\n",
       " 'Eastern Asia': 3       167.40\n",
       " 19      168.00\n",
       " 46      288.00\n",
       " 65      595.20\n",
       " 74      372.00\n",
       "          ...  \n",
       " 2116     60.00\n",
       " 2128    465.00\n",
       " 2136     31.00\n",
       " 2138     24.00\n",
       " 2139     23.25\n",
       " Name: Total Spent, Length: 119, dtype: float64,\n",
       " 'NSW': 4       1696.0\n",
       " 6       1484.0\n",
       " 24       393.0\n",
       " 101      943.2\n",
       " 117       84.8\n",
       "          ...  \n",
       " 2056    1272.0\n",
       " 2076    1060.0\n",
       " 2091     328.0\n",
       " 2098     820.0\n",
       " 2147      14.0\n",
       " Name: Total Spent, Length: 98, dtype: float64,\n",
       " 'North America': 5         77.00\n",
       " 7        252.00\n",
       " 10       336.00\n",
       " 18       403.20\n",
       " 30      1105.00\n",
       "          ...   \n",
       " 2134      30.00\n",
       " 2135      80.00\n",
       " 2145      28.95\n",
       " 2148      48.00\n",
       " 2151      17.00\n",
       " Name: Total Spent, Length: 418, dtype: float64,\n",
       " 'Northern Europe': 8       100.8\n",
       " 22      380.0\n",
       " 33       20.8\n",
       " 59      456.0\n",
       " 81      300.0\n",
       "         ...  \n",
       " 2026    665.0\n",
       " 2125    360.0\n",
       " 2142     18.0\n",
       " 2146     36.0\n",
       " 2152     30.0\n",
       " Name: Total Spent, Length: 153, dtype: float64,\n",
       " 'British Isles': 11      2592.0\n",
       " 20       304.0\n",
       " 29       760.0\n",
       " 32        80.0\n",
       " 38       160.0\n",
       "          ...  \n",
       " 2124     190.0\n",
       " 2129      92.0\n",
       " 2130     456.0\n",
       " 2131      40.0\n",
       " 2141      81.0\n",
       " Name: Total Spent, Length: 220, dtype: float64,\n",
       " 'Scandinavia': 12       50.0\n",
       " 16      640.0\n",
       " 54      216.0\n",
       " 57      120.0\n",
       " 61       48.0\n",
       "         ...  \n",
       " 2055     37.5\n",
       " 2065    900.0\n",
       " 2072     25.0\n",
       " 2119    357.5\n",
       " 2126     36.0\n",
       " Name: Total Spent, Length: 175, dtype: float64,\n",
       " 'Western Europe': 13      1088.0\n",
       " 15       604.8\n",
       " 23      1320.0\n",
       " 25       124.8\n",
       " 26       877.5\n",
       "          ...  \n",
       " 2144      36.0\n",
       " 2149      68.0\n",
       " 2150      66.5\n",
       " 2153      31.0\n",
       " 2154      26.0\n",
       " Name: Total Spent, Length: 447, dtype: float64,\n",
       " 'South America': 17       54.0\n",
       " 44      100.8\n",
       " 72       43.2\n",
       " 83       43.2\n",
       " 87       21.6\n",
       " 120      36.0\n",
       " 278      36.0\n",
       " 284      90.0\n",
       " 292      36.0\n",
       " 365      54.0\n",
       " 367      54.0\n",
       " 525      72.0\n",
       " 577      90.0\n",
       " 584     100.8\n",
       " 596     288.0\n",
       " 659      63.0\n",
       " 689      45.0\n",
       " 712      22.5\n",
       " 718      36.0\n",
       " 784     157.5\n",
       " 825      81.0\n",
       " 849     112.5\n",
       " 925     157.5\n",
       " 981      22.5\n",
       " 992      13.5\n",
       " 1054     67.5\n",
       " 1176     90.0\n",
       " 1202    157.5\n",
       " 1361     90.0\n",
       " 1441     90.0\n",
       " 1604    180.0\n",
       " 1623     27.0\n",
       " 1663     36.0\n",
       " 1668     54.0\n",
       " 1685     45.0\n",
       " 1692    495.0\n",
       " 1749    157.5\n",
       " 1811    112.5\n",
       " 1844     45.0\n",
       " 1864    135.0\n",
       " 1888    360.0\n",
       " 1899     90.0\n",
       " 1933     54.0\n",
       " 1941    135.0\n",
       " 1966     54.0\n",
       " 1970     45.0\n",
       " 2011    135.0\n",
       " 2023     94.5\n",
       " 2066     45.0\n",
       " 2074     67.5\n",
       " 2122     90.0\n",
       " Name: Total Spent, dtype: float64,\n",
       " 'Victoria': 21       486.50\n",
       " 37       252.00\n",
       " 43       834.00\n",
       " 49       936.00\n",
       " 50       240.00\n",
       "          ...   \n",
       " 2096    3003.00\n",
       " 2103      52.35\n",
       " 2113     523.50\n",
       " 2123     244.30\n",
       " 2140      34.90\n",
       " Name: Total Spent, Length: 163, dtype: float64}"
      ]
     },
     "execution_count": 155,
     "metadata": {},
     "output_type": "execute_result"
    }
   ],
   "source": [
    "h3dict = {}\n",
    "for name in h3df['Region'].unique():\n",
    "    h3dict[name] = h3df.groupby('Region').get_group(name)['Total Spent']\n",
    "    \n",
    "h3dict"
   ]
  },
  {
   "cell_type": "markdown",
   "metadata": {},
   "source": [
    "## STEP 2: Do we meet the assumptions of the chosen test?"
   ]
  },
  {
   "cell_type": "markdown",
   "metadata": {},
   "source": [
    "Independent t-test (2-sample)\n",
    "\n",
    "- No significant outliers\n",
    "- Normality\n",
    "- Equal Variance"
   ]
  },
  {
   "cell_type": "markdown",
   "metadata": {},
   "source": [
    "### 0. Check for & Remove Outliers"
   ]
  },
  {
   "cell_type": "code",
   "execution_count": 156,
   "metadata": {},
   "outputs": [
    {
     "data": {
      "text/plain": [
       "[Text(0, 0.5, 'Density'), Text(0.5, 1.0, 'Total Spent by Region')]"
      ]
     },
     "execution_count": 156,
     "metadata": {},
     "output_type": "execute_result"
    },
    {
     "data": {
      "image/png": "[encoded data removed]",
      "text/plain": [
       "<Figure size 576x360 with 1 Axes>"
      ]
     },
     "metadata": {
      "needs_background": "light"
     },
     "output_type": "display_data"
    }
   ],
   "source": [
    "fig,ax=plt.subplots(figsize=(8,5))\n",
    "for name,values in h3dict.items():\n",
    "    sns.distplot(values,label=name, ax=ax)\n",
    "    \n",
    "    \n",
    "ax.legend()\n",
    "ax.set(title='Total Spent by Region', ylabel='Density')"
   ]
  },
  {
   "cell_type": "markdown",
   "metadata": {},
   "source": [
    "Something is seriously skewing the sales data for these regions. Looks like Western Europe and South America. "
   ]
  },
  {
   "cell_type": "code",
   "execution_count": 157,
   "metadata": {},
   "outputs": [
    {
     "data": {
      "text/html": [
       "<div>\n",
       "<style scoped>\n",
       "    .dataframe tbody tr th:only-of-type {\n",
       "        vertical-align: middle;\n",
       "    }\n",
       "\n",
       "    .dataframe tbody tr th {\n",
       "        vertical-align: top;\n",
       "    }\n",
       "\n",
       "    .dataframe thead th {\n",
       "        text-align: right;\n",
       "    }\n",
       "</style>\n",
       "<table border=\"1\" class=\"dataframe\">\n",
       "  <thead>\n",
       "    <tr style=\"text-align: right;\">\n",
       "      <th></th>\n",
       "      <th>UnitPrice</th>\n",
       "      <th>Quantity</th>\n",
       "      <th>Total Spent</th>\n",
       "    </tr>\n",
       "  </thead>\n",
       "  <tbody>\n",
       "    <tr>\n",
       "      <td>count</td>\n",
       "      <td>2155.000000</td>\n",
       "      <td>2155.000000</td>\n",
       "      <td>2155.000000</td>\n",
       "    </tr>\n",
       "    <tr>\n",
       "      <td>mean</td>\n",
       "      <td>26.218520</td>\n",
       "      <td>23.812993</td>\n",
       "      <td>628.519067</td>\n",
       "    </tr>\n",
       "    <tr>\n",
       "      <td>std</td>\n",
       "      <td>29.827418</td>\n",
       "      <td>19.022047</td>\n",
       "      <td>1036.466980</td>\n",
       "    </tr>\n",
       "    <tr>\n",
       "      <td>min</td>\n",
       "      <td>2.000000</td>\n",
       "      <td>1.000000</td>\n",
       "      <td>4.800000</td>\n",
       "    </tr>\n",
       "    <tr>\n",
       "      <td>25%</td>\n",
       "      <td>12.000000</td>\n",
       "      <td>10.000000</td>\n",
       "      <td>154.000000</td>\n",
       "    </tr>\n",
       "    <tr>\n",
       "      <td>50%</td>\n",
       "      <td>18.400000</td>\n",
       "      <td>20.000000</td>\n",
       "      <td>360.000000</td>\n",
       "    </tr>\n",
       "    <tr>\n",
       "      <td>75%</td>\n",
       "      <td>32.000000</td>\n",
       "      <td>30.000000</td>\n",
       "      <td>722.250000</td>\n",
       "    </tr>\n",
       "    <tr>\n",
       "      <td>max</td>\n",
       "      <td>263.500000</td>\n",
       "      <td>130.000000</td>\n",
       "      <td>15810.000000</td>\n",
       "    </tr>\n",
       "  </tbody>\n",
       "</table>\n",
       "</div>"
      ],
      "text/plain": [
       "         UnitPrice     Quantity   Total Spent\n",
       "count  2155.000000  2155.000000   2155.000000\n",
       "mean     26.218520    23.812993    628.519067\n",
       "std      29.827418    19.022047   1036.466980\n",
       "min       2.000000     1.000000      4.800000\n",
       "25%      12.000000    10.000000    154.000000\n",
       "50%      18.400000    20.000000    360.000000\n",
       "75%      32.000000    30.000000    722.250000\n",
       "max     263.500000   130.000000  15810.000000"
      ]
     },
     "execution_count": 157,
     "metadata": {},
     "output_type": "execute_result"
    }
   ],
   "source": [
    "h3df.describe()"
   ]
  },
  {
   "cell_type": "code",
   "execution_count": 158,
   "metadata": {},
   "outputs": [
    {
     "name": "stdout",
     "output_type": "stream",
     "text": [
      "Found 6 outliers using Z-score method for Southern Europe.\n",
      "Found 1 outliers using Z-score method for South-East Asia.\n",
      "Found 2 outliers using Z-score method for Eastern Asia.\n",
      "Found 2 outliers using Z-score method for NSW.\n",
      "Found 11 outliers using Z-score method for North America.\n",
      "Found 2 outliers using Z-score method for Northern Europe.\n",
      "Found 4 outliers using Z-score method for British Isles.\n",
      "Found 2 outliers using Z-score method for Scandinavia.\n",
      "Found 13 outliers using Z-score method for Western Europe.\n",
      "Found 2 outliers using Z-score method for South America.\n",
      "Found 4 outliers using Z-score method for Victoria.\n"
     ]
    }
   ],
   "source": [
    "for name,values in h3dict.items():\n",
    "    idx_outs = find_outliers_Z(values)\n",
    "    print(f\"Found {idx_outs.sum()} outliers using Z-score method for {name}.\")\n",
    "    h3dict[name] = values[~idx_outs]\n",
    "    "
   ]
  },
  {
   "cell_type": "markdown",
   "metadata": {},
   "source": [
    "### 1. Test Assumption of Normality"
   ]
  },
  {
   "cell_type": "code",
   "execution_count": 161,
   "metadata": {},
   "outputs": [
    {
     "name": "stdout",
     "output_type": "stream",
     "text": [
      "Group Southern Europe Normaltest p-value=0.0\n",
      "\t-The data is NOT normal.\n",
      "Group South-East Asia Normaltest p-value=0.0001\n",
      "\t-The data is NOT normal.\n",
      "Group Eastern Asia Normaltest p-value=0.0\n",
      "\t-The data is NOT normal.\n",
      "Group NSW Normaltest p-value=0.0\n",
      "\t-The data is NOT normal.\n",
      "Group North America Normaltest p-value=0.0\n",
      "\t-The data is NOT normal.\n",
      "Group Northern Europe Normaltest p-value=0.0\n",
      "\t-The data is NOT normal.\n",
      "Group British Isles Normaltest p-value=0.0\n",
      "\t-The data is NOT normal.\n",
      "Group Scandinavia Normaltest p-value=0.0\n",
      "\t-The data is NOT normal.\n",
      "Group Western Europe Normaltest p-value=0.0\n",
      "\t-The data is NOT normal.\n",
      "Group South America Normaltest p-value=0.0\n",
      "\t-The data is NOT normal.\n",
      "Group Victoria Normaltest p-value=0.0\n",
      "\t-The data is NOT normal.\n"
     ]
    }
   ],
   "source": [
    "for key,values in h3dict.items():\n",
    "    stat,h3p = stats.normaltest(values)\n",
    "    print(f\"Group {key} Normaltest p-value={round(h3p,4)}\")\n",
    "    sig = 'is NOT' if h3p<.05 else 'IS'\n",
    "\n",
    "    print(f\"\\t-The data {sig} normal.\")"
   ]
  },
  {
   "cell_type": "markdown",
   "metadata": {},
   "source": [
    "### 1B. We don't have normal data:"
   ]
  },
  {
   "cell_type": "markdown",
   "metadata": {},
   "source": [
    "So in order to ignore non-normality, if we have 2-9 groups, each group needs n >= 15.\n",
    "If we have 10-12 groups, we need each group to have n>20. We have 11 groups. "
   ]
  },
  {
   "cell_type": "code",
   "execution_count": 170,
   "metadata": {},
   "outputs": [
    {
     "name": "stdout",
     "output_type": "stream",
     "text": [
      "Southern Europe:  223\n",
      "South-East Asia:  81\n",
      "Eastern Asia:  117\n",
      "NSW:  96\n",
      "North America:  407\n",
      "Northern Europe:  151\n",
      "British Isles:  216\n",
      "Scandinavia:  173\n",
      "Western Europe:  434\n",
      "South America:  49\n",
      "Victoria:  159\n"
     ]
    }
   ],
   "source": [
    "for name in h3dict.keys():\n",
    "    region = name\n",
    "    print(f\"{region}: \", len(h3dict[name]))"
   ]
  },
  {
   "cell_type": "markdown",
   "metadata": {},
   "source": [
    "All 11 group sizes (n) are bigger than required 20 for each group so we can safely ignore normality assumption. <br>\n",
    "So we move on to equal variance assumption."
   ]
  },
  {
   "cell_type": "markdown",
   "metadata": {},
   "source": [
    "### 2. Test for Equal Variance"
   ]
  },
  {
   "cell_type": "code",
   "execution_count": 171,
   "metadata": {
    "scrolled": true
   },
   "outputs": [],
   "source": [
    "# put data into lists for levene's test args\n",
    "h3data = []\n",
    "for key,vals in h3dict.items():\n",
    "    h3data.append(vals)"
   ]
  },
  {
   "cell_type": "code",
   "execution_count": 172,
   "metadata": {},
   "outputs": [
    {
     "data": {
      "text/plain": [
       "1         98.00\n",
       "60       920.00\n",
       "78       248.00\n",
       "96       325.50\n",
       "116      372.00\n",
       "         ...   \n",
       "2032     233.40\n",
       "2036     420.00\n",
       "2051     291.75\n",
       "2067    1380.00\n",
       "2108    1656.00\n",
       "Name: Total Spent, Length: 81, dtype: float64"
      ]
     },
     "execution_count": 172,
     "metadata": {},
     "output_type": "execute_result"
    }
   ],
   "source": [
    "h3data[1]"
   ]
  },
  {
   "cell_type": "code",
   "execution_count": 174,
   "metadata": {},
   "outputs": [
    {
     "name": "stdout",
     "output_type": "stream",
     "text": [
      "Levene's Test for Equal Variance p-value=0.0\n",
      "\t-The groups do NOT have equal variance.\n"
     ]
    }
   ],
   "source": [
    "stat,h3p = stats.levene(*h3data)\n",
    "print(f\"Levene's Test for Equal Variance p-value={round(h3p,4)}\")\n",
    "sig = 'do NOT' if h3p<.05 else 'DO'\n",
    "\n",
    "print(f\"\\t-The groups {sig} have equal variance.\")"
   ]
  },
  {
   "cell_type": "markdown",
   "metadata": {},
   "source": [
    "### Failed the assumption of equal variance:\n",
    "\n",
    "Use a Welch's T-Test. \n",
    " - for scipy, add equal_var=False to ttest_ind"
   ]
  },
  {
   "cell_type": "markdown",
   "metadata": {},
   "source": [
    "## STEP 3: Interpret Result & Post-Hoc Tests"
   ]
  },
  {
   "cell_type": "markdown",
   "metadata": {},
   "source": [
    "### Perform hypothesis test from summary table above to get your p-value."
   ]
  },
  {
   "cell_type": "markdown",
   "metadata": {},
   "source": [
    "- If p value is < $\\alpha$:\n",
    "\n",
    "    - Reject the null hypothesis.\n",
    "    - Calculate effect size (e.g. Cohen's $d$)\n",
    "- If p<.05 AND you have multiple groups (i.e. ANOVA)\n",
    "\n",
    "    - Must run a pairwise Tukey's test to know which groups were significantly different.\n",
    "    - Tukey pairwise comparison test\n",
    "    - statsmodels.stats.multicomp.pairwise_tukeyhsd\n",
    "- Report statistical power (optional)"
   ]
  },
  {
   "cell_type": "code",
   "execution_count": 45,
   "metadata": {},
   "outputs": [
    {
     "name": "stdout",
     "output_type": "stream",
     "text": [
      "Welch's t-test p value=0.0\n",
      "\t- Null Hypothesis is rejected.\n"
     ]
    }
   ],
   "source": [
    "stat,h2p = stats.ttest_ind(h2dict['Full Price'], h2dict['Discounted'], equal_var=False)\n",
    "print(f\"Welch's t-test p value={round(h2p,4)}\")\n",
    "\n",
    "sig = 'is rejected' if h2p<.05 else 'is accepted'\n",
    "\n",
    "print(f\"\\t- Null Hypothesis {sig}.\")"
   ]
  },
  {
   "cell_type": "markdown",
   "metadata": {},
   "source": [
    "### Calculate effect size (e.g. Cohen's  𝑑 )"
   ]
  },
  {
   "cell_type": "code",
   "execution_count": 46,
   "metadata": {},
   "outputs": [
    {
     "data": {
      "text/plain": [
       "-0.22821293413002144"
      ]
     },
     "execution_count": 46,
     "metadata": {},
     "output_type": "execute_result"
    }
   ],
   "source": [
    "h2effectsize = Cohen_d(h2dict['Full Price'],h2dict['Discounted'])\n",
    "h2effectsize"
   ]
  },
  {
   "cell_type": "markdown",
   "metadata": {},
   "source": [
    "# --Question"
   ]
  },
  {
   "cell_type": "markdown",
   "metadata": {},
   "source": [
    "0.2 effect size is small. What does this tell us?"
   ]
  },
  {
   "cell_type": "markdown",
   "metadata": {},
   "source": [
    "### Report statistical power (optional)"
   ]
  },
  {
   "cell_type": "markdown",
   "metadata": {},
   "source": [
    "statsmodels.stats.power:\n",
    "TTestIndPower , TTestPower"
   ]
  },
  {
   "cell_type": "code",
   "execution_count": 47,
   "metadata": {},
   "outputs": [
    {
     "data": {
      "text/plain": [
       "2123"
      ]
     },
     "execution_count": 47,
     "metadata": {},
     "output_type": "execute_result"
    }
   ],
   "source": [
    "len(h2dict['Full Price']+h2dict['Discounted'])"
   ]
  },
  {
   "cell_type": "code",
   "execution_count": 48,
   "metadata": {},
   "outputs": [
    {
     "data": {
      "text/plain": [
       "0.9946532659778071"
      ]
     },
     "execution_count": 48,
     "metadata": {},
     "output_type": "execute_result"
    }
   ],
   "source": [
    "# show the power to see how well we can reject null.\n",
    "power_analysis.solve_power(effect_size=h2effectsize, nobs1=2123, alpha=h2p)"
   ]
  },
  {
   "cell_type": "code",
   "execution_count": 49,
   "metadata": {},
   "outputs": [],
   "source": [
    "# power is .99 so yeah we have a solid bet of rejecting null hypothesis and not getting any type 1 errors."
   ]
  },
  {
   "cell_type": "markdown",
   "metadata": {},
   "source": [
    "## What levels of discount?"
   ]
  },
  {
   "cell_type": "markdown",
   "metadata": {},
   "source": [
    "### If p<.05 AND you have multiple groups (i.e. ANOVA)\n",
    "\n",
    "- Must run a pairwise Tukey's test to know which groups were significantly different.\n",
    "- Tukey pairwise comparison test\n",
    "- statsmodels.stats.multicomp.pairwise_tukeyhsd"
   ]
  },
  {
   "cell_type": "markdown",
   "metadata": {},
   "source": [
    "> Does discount amount have a statistically significant effect on the quantity of a product in an order? If so, at what level(s) of discount? "
   ]
  },
  {
   "cell_type": "markdown",
   "metadata": {},
   "source": [
    "### Make dict into dataframes for tukeys"
   ]
  },
  {
   "cell_type": "code",
   "execution_count": 50,
   "metadata": {},
   "outputs": [
    {
     "data": {
      "text/plain": [
       "0        168.0\n",
       "1         98.0\n",
       "2        174.0\n",
       "3        167.4\n",
       "4       1696.0\n",
       "         ...  \n",
       "2147      14.0\n",
       "2148      48.0\n",
       "2151      17.0\n",
       "2153      31.0\n",
       "2154      26.0\n",
       "Name: Total Spent, Length: 1298, dtype: float64"
      ]
     },
     "execution_count": 50,
     "metadata": {},
     "output_type": "execute_result"
    }
   ],
   "source": [
    "h2dict['Full Price']"
   ]
  },
  {
   "cell_type": "code",
   "execution_count": 51,
   "metadata": {},
   "outputs": [
    {
     "data": {
      "text/html": [
       "<div>\n",
       "<style scoped>\n",
       "    .dataframe tbody tr th:only-of-type {\n",
       "        vertical-align: middle;\n",
       "    }\n",
       "\n",
       "    .dataframe tbody tr th {\n",
       "        vertical-align: top;\n",
       "    }\n",
       "\n",
       "    .dataframe thead th {\n",
       "        text-align: right;\n",
       "    }\n",
       "</style>\n",
       "<table border=\"1\" class=\"dataframe\">\n",
       "  <thead>\n",
       "    <tr style=\"text-align: right;\">\n",
       "      <th></th>\n",
       "      <th>Total Spent</th>\n",
       "      <th>Group</th>\n",
       "    </tr>\n",
       "  </thead>\n",
       "  <tbody>\n",
       "    <tr>\n",
       "      <td>0</td>\n",
       "      <td>168.0</td>\n",
       "      <td>Full Price</td>\n",
       "    </tr>\n",
       "    <tr>\n",
       "      <td>1</td>\n",
       "      <td>98.0</td>\n",
       "      <td>Full Price</td>\n",
       "    </tr>\n",
       "    <tr>\n",
       "      <td>2</td>\n",
       "      <td>174.0</td>\n",
       "      <td>Full Price</td>\n",
       "    </tr>\n",
       "    <tr>\n",
       "      <td>3</td>\n",
       "      <td>167.4</td>\n",
       "      <td>Full Price</td>\n",
       "    </tr>\n",
       "    <tr>\n",
       "      <td>4</td>\n",
       "      <td>1696.0</td>\n",
       "      <td>Full Price</td>\n",
       "    </tr>\n",
       "    <tr>\n",
       "      <td>...</td>\n",
       "      <td>...</td>\n",
       "      <td>...</td>\n",
       "    </tr>\n",
       "    <tr>\n",
       "      <td>2144</td>\n",
       "      <td>36.0</td>\n",
       "      <td>Discounted</td>\n",
       "    </tr>\n",
       "    <tr>\n",
       "      <td>2146</td>\n",
       "      <td>36.0</td>\n",
       "      <td>Discounted</td>\n",
       "    </tr>\n",
       "    <tr>\n",
       "      <td>2149</td>\n",
       "      <td>68.0</td>\n",
       "      <td>Discounted</td>\n",
       "    </tr>\n",
       "    <tr>\n",
       "      <td>2150</td>\n",
       "      <td>66.5</td>\n",
       "      <td>Discounted</td>\n",
       "    </tr>\n",
       "    <tr>\n",
       "      <td>2152</td>\n",
       "      <td>30.0</td>\n",
       "      <td>Discounted</td>\n",
       "    </tr>\n",
       "  </tbody>\n",
       "</table>\n",
       "<p>2123 rows × 2 columns</p>\n",
       "</div>"
      ],
      "text/plain": [
       "      Total Spent       Group\n",
       "0           168.0  Full Price\n",
       "1            98.0  Full Price\n",
       "2           174.0  Full Price\n",
       "3           167.4  Full Price\n",
       "4          1696.0  Full Price\n",
       "...           ...         ...\n",
       "2144         36.0  Discounted\n",
       "2146         36.0  Discounted\n",
       "2149         68.0  Discounted\n",
       "2150         66.5  Discounted\n",
       "2152         30.0  Discounted\n",
       "\n",
       "[2123 rows x 2 columns]"
      ]
     },
     "execution_count": 51,
     "metadata": {},
     "output_type": "execute_result"
    }
   ],
   "source": [
    "h2df_tukey = prepare_for_tukeys(h2dict)\n",
    "h2df_tukey"
   ]
  },
  {
   "cell_type": "code",
   "execution_count": 52,
   "metadata": {},
   "outputs": [
    {
     "ename": "TypeError",
     "evalue": "zip argument #4 must support iteration",
     "output_type": "error",
     "traceback": [
      "\u001b[0;31m---------------------------------------------------------------------------\u001b[0m",
      "\u001b[0;31mTypeError\u001b[0m                                 Traceback (most recent call last)",
      "\u001b[0;32m<ipython-input-52-442ba0daaa9d>\u001b[0m in \u001b[0;36m<module>\u001b[0;34m\u001b[0m\n\u001b[0;32m----> 1\u001b[0;31m \u001b[0mh2tukeys\u001b[0m \u001b[0;34m=\u001b[0m \u001b[0mpairwise_tukeyhsd\u001b[0m\u001b[0;34m(\u001b[0m\u001b[0mh2df_tukey\u001b[0m\u001b[0;34m[\u001b[0m\u001b[0;34m'Total Spent'\u001b[0m\u001b[0;34m]\u001b[0m\u001b[0;34m,\u001b[0m\u001b[0mh2df_tukey\u001b[0m\u001b[0;34m[\u001b[0m\u001b[0;34m'Group'\u001b[0m\u001b[0;34m]\u001b[0m\u001b[0;34m)\u001b[0m\u001b[0;34m\u001b[0m\u001b[0;34m\u001b[0m\u001b[0m\n\u001b[0m\u001b[1;32m      2\u001b[0m \u001b[0mh2tukeys\u001b[0m\u001b[0;34m.\u001b[0m\u001b[0msummary\u001b[0m\u001b[0;34m(\u001b[0m\u001b[0;34m)\u001b[0m\u001b[0;34m\u001b[0m\u001b[0;34m\u001b[0m\u001b[0m\n",
      "\u001b[0;32m//anaconda3/envs/learn-env/lib/python3.6/site-packages/statsmodels/stats/multicomp.py\u001b[0m in \u001b[0;36mpairwise_tukeyhsd\u001b[0;34m(endog, groups, alpha)\u001b[0m\n\u001b[1;32m     42\u001b[0m     \"\"\"\n\u001b[1;32m     43\u001b[0m \u001b[0;34m\u001b[0m\u001b[0m\n\u001b[0;32m---> 44\u001b[0;31m     \u001b[0;32mreturn\u001b[0m \u001b[0mMultiComparison\u001b[0m\u001b[0;34m(\u001b[0m\u001b[0mendog\u001b[0m\u001b[0;34m,\u001b[0m \u001b[0mgroups\u001b[0m\u001b[0;34m)\u001b[0m\u001b[0;34m.\u001b[0m\u001b[0mtukeyhsd\u001b[0m\u001b[0;34m(\u001b[0m\u001b[0malpha\u001b[0m\u001b[0;34m=\u001b[0m\u001b[0malpha\u001b[0m\u001b[0;34m)\u001b[0m\u001b[0;34m\u001b[0m\u001b[0;34m\u001b[0m\u001b[0m\n\u001b[0m",
      "\u001b[0;32m//anaconda3/envs/learn-env/lib/python3.6/site-packages/statsmodels/sandbox/stats/multicomp.py\u001b[0m in \u001b[0;36mtukeyhsd\u001b[0;34m(self, alpha)\u001b[0m\n\u001b[1;32m   1011\u001b[0m                                \u001b[0mnp\u001b[0m\u001b[0;34m.\u001b[0m\u001b[0mround\u001b[0m\u001b[0;34m(\u001b[0m\u001b[0mres\u001b[0m\u001b[0;34m[\u001b[0m\u001b[0;36m4\u001b[0m\u001b[0;34m]\u001b[0m\u001b[0;34m[\u001b[0m\u001b[0;34m:\u001b[0m\u001b[0;34m,\u001b[0m \u001b[0;36m0\u001b[0m\u001b[0;34m]\u001b[0m\u001b[0;34m,\u001b[0m \u001b[0;36m4\u001b[0m\u001b[0;34m)\u001b[0m\u001b[0;34m,\u001b[0m\u001b[0;34m\u001b[0m\u001b[0;34m\u001b[0m\u001b[0m\n\u001b[1;32m   1012\u001b[0m                                \u001b[0mnp\u001b[0m\u001b[0;34m.\u001b[0m\u001b[0mround\u001b[0m\u001b[0;34m(\u001b[0m\u001b[0mres\u001b[0m\u001b[0;34m[\u001b[0m\u001b[0;36m4\u001b[0m\u001b[0;34m]\u001b[0m\u001b[0;34m[\u001b[0m\u001b[0;34m:\u001b[0m\u001b[0;34m,\u001b[0m \u001b[0;36m1\u001b[0m\u001b[0;34m]\u001b[0m\u001b[0;34m,\u001b[0m \u001b[0;36m4\u001b[0m\u001b[0;34m)\u001b[0m\u001b[0;34m,\u001b[0m\u001b[0;34m\u001b[0m\u001b[0;34m\u001b[0m\u001b[0m\n\u001b[0;32m-> 1013\u001b[0;31m                                res[1]),\n\u001b[0m\u001b[1;32m   1014\u001b[0m                           dtype=[('group1', object),\n\u001b[1;32m   1015\u001b[0m                                  \u001b[0;34m(\u001b[0m\u001b[0;34m'group2'\u001b[0m\u001b[0;34m,\u001b[0m \u001b[0mobject\u001b[0m\u001b[0;34m)\u001b[0m\u001b[0;34m,\u001b[0m\u001b[0;34m\u001b[0m\u001b[0;34m\u001b[0m\u001b[0m\n",
      "\u001b[0;32m//anaconda3/envs/learn-env/lib/python3.6/site-packages/statsmodels/compat/python.py\u001b[0m in \u001b[0;36mlzip\u001b[0;34m(*args, **kwargs)\u001b[0m\n\u001b[1;32m     60\u001b[0m \u001b[0;34m\u001b[0m\u001b[0m\n\u001b[1;32m     61\u001b[0m     \u001b[0;32mdef\u001b[0m \u001b[0mlzip\u001b[0m\u001b[0;34m(\u001b[0m\u001b[0;34m*\u001b[0m\u001b[0margs\u001b[0m\u001b[0;34m,\u001b[0m \u001b[0;34m**\u001b[0m\u001b[0mkwargs\u001b[0m\u001b[0;34m)\u001b[0m\u001b[0;34m:\u001b[0m\u001b[0;34m\u001b[0m\u001b[0;34m\u001b[0m\u001b[0m\n\u001b[0;32m---> 62\u001b[0;31m         \u001b[0;32mreturn\u001b[0m \u001b[0mlist\u001b[0m\u001b[0;34m(\u001b[0m\u001b[0mzip\u001b[0m\u001b[0;34m(\u001b[0m\u001b[0;34m*\u001b[0m\u001b[0margs\u001b[0m\u001b[0;34m,\u001b[0m \u001b[0;34m**\u001b[0m\u001b[0mkwargs\u001b[0m\u001b[0;34m)\u001b[0m\u001b[0;34m)\u001b[0m\u001b[0;34m\u001b[0m\u001b[0;34m\u001b[0m\u001b[0m\n\u001b[0m\u001b[1;32m     63\u001b[0m \u001b[0;34m\u001b[0m\u001b[0m\n\u001b[1;32m     64\u001b[0m     \u001b[0;32mdef\u001b[0m \u001b[0mlmap\u001b[0m\u001b[0;34m(\u001b[0m\u001b[0;34m*\u001b[0m\u001b[0margs\u001b[0m\u001b[0;34m,\u001b[0m \u001b[0;34m**\u001b[0m\u001b[0mkwargs\u001b[0m\u001b[0;34m)\u001b[0m\u001b[0;34m:\u001b[0m\u001b[0;34m\u001b[0m\u001b[0;34m\u001b[0m\u001b[0m\n",
      "\u001b[0;31mTypeError\u001b[0m: zip argument #4 must support iteration"
     ]
    }
   ],
   "source": [
    "h2tukeys = pairwise_tukeyhsd(h2df_tukey['Total Spent'],h2df_tukey['Group'])\n",
    "h2tukeys.summary()"
   ]
  }
 ],
 "metadata": {
  "kernelspec": {
   "display_name": "Python [conda env:learn-env] *",
   "language": "python",
   "name": "conda-env-learn-env-py"
  },
  "language_info": {
   "codemirror_mode": {
    "name": "ipython",
    "version": 3
   },
   "file_extension": ".py",
   "mimetype": "text/x-python",
   "name": "python",
   "nbconvert_exporter": "python",
   "pygments_lexer": "ipython3",
   "version": "3.6.9"
  },
  "toc": {
   "base_numbering": 1,
   "nav_menu": {},
   "number_sections": false,
   "sideBar": true,
   "skip_h1_title": false,
   "title_cell": "Table of Contents",
   "title_sidebar": "Contents",
   "toc_cell": false,
   "toc_position": {
    "height": "calc(100% - 180px)",
    "left": "10px",
    "top": "150px",
    "width": "258px"
   },
   "toc_section_display": true,
   "toc_window_display": true
  },
  "varInspector": {
   "cols": {
    "lenName": 16,
    "lenType": 16,
    "lenVar": 40
   },
   "kernels_config": {
    "python": {
     "delete_cmd_postfix": "",
     "delete_cmd_prefix": "del ",
     "library": "var_list.py",
     "varRefreshCmd": "print(var_dic_list())"
    },
    "r": {
     "delete_cmd_postfix": ") ",
     "delete_cmd_prefix": "rm(",
     "library": "var_list.r",
     "varRefreshCmd": "cat(var_dic_list()) "
    }
   },
   "types_to_exclude": [
    "module",
    "function",
    "builtin_function_or_method",
    "instance",
    "_Feature"
   ],
   "window_display": false
  }
 },
 "nbformat": 4,
 "nbformat_minor": 2
}
